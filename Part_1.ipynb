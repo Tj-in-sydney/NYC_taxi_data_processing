{
 "cells": [
  {
   "cell_type": "code",
   "execution_count": null,
   "metadata": {
    "application/vnd.databricks.v1+cell": {
     "cellMetadata": {
      "byteLimit": 2048000,
      "rowLimit": 10000
     },
     "inputWidgets": {},
     "nuid": "e7b9ec7b-d1f1-45a4-b00d-0fe1cf68dddb",
     "showTitle": false,
     "title": ""
    }
   },
   "outputs": [],
   "source": [
    "storage_account_name = \"tjinsydney\""
   ]
  },
  {
   "cell_type": "code",
   "execution_count": null,
   "metadata": {
    "application/vnd.databricks.v1+cell": {
     "cellMetadata": {
      "byteLimit": 2048000,
      "rowLimit": 10000
     },
     "inputWidgets": {},
     "nuid": "df7f04e6-2fb9-4af7-a902-a16b7e1d43c2",
     "showTitle": false,
     "title": ""
    }
   },
   "outputs": [],
   "source": [
    "blob_container_name = \"bde-assignment2\""
   ]
  },
  {
   "cell_type": "code",
   "execution_count": null,
   "metadata": {
    "application/vnd.databricks.v1+cell": {
     "cellMetadata": {
      "byteLimit": 2048000,
      "rowLimit": 10000
     },
     "inputWidgets": {},
     "nuid": "6c1a7ca3-6e40-4604-aa84-f60aa66390fa",
     "showTitle": false,
     "title": ""
    }
   },
   "outputs": [
    {
     "name": "stdout",
     "output_type": "stream",
     "text": [
      "Out[5]: True"
     ]
    }
   ],
   "source": [
    "dbutils.fs.mount(\n",
    "  source = f'wasbs://{blob_container_name}@{storage_account_name}.blob.core.windows.net',\n",
    "  mount_point = f'/mnt/{blob_container_name}/',\n",
    "  extra_configs = {'fs.azure.account.key.' + storage_account_name + '.blob.core.windows.net': storage_account_access_key}\n",
    ")"
   ]
  },
  {
   "cell_type": "code",
   "execution_count": null,
   "metadata": {
    "application/vnd.databricks.v1+cell": {
     "cellMetadata": {
      "byteLimit": 2048000,
      "rowLimit": 10000
     },
     "inputWidgets": {},
     "nuid": "c547c401-7477-4c46-bc5b-18f70d826b68",
     "showTitle": false,
     "title": ""
    }
   },
   "outputs": [
    {
     "name": "stdout",
     "output_type": "stream",
     "text": [
      "Out[6]: [FileInfo(path='dbfs:/mnt/bde-assignment2/green_taxi_2015.parquet', name='green_taxi_2015.parquet', size=404556105, modificationTime=1726286532000),\n",
      " FileInfo(path='dbfs:/mnt/bde-assignment2/green_taxi_2016.parquet', name='green_taxi_2016.parquet', size=346731598, modificationTime=1726286513000),\n",
      " FileInfo(path='dbfs:/mnt/bde-assignment2/green_taxi_2017.parquet', name='green_taxi_2017.parquet', size=251504885, modificationTime=1726286435000),\n",
      " FileInfo(path='dbfs:/mnt/bde-assignment2/green_taxi_2018.parquet', name='green_taxi_2018.parquet', size=193874396, modificationTime=1726286359000),\n",
      " FileInfo(path='dbfs:/mnt/bde-assignment2/green_taxi_2019.parquet', name='green_taxi_2019.parquet', size=142163406, modificationTime=1726286267000),\n",
      " FileInfo(path='dbfs:/mnt/bde-assignment2/green_taxi_2020.parquet', name='green_taxi_2020.parquet', size=37076741, modificationTime=1726286388000),\n",
      " FileInfo(path='dbfs:/mnt/bde-assignment2/green_taxi_2021.parquet', name='green_taxi_2021.parquet', size=23479865, modificationTime=1726286443000),\n",
      " FileInfo(path='dbfs:/mnt/bde-assignment2/green_taxi_2022.parquet', name='green_taxi_2022.parquet', size=20085692, modificationTime=1726286458000),\n",
      " FileInfo(path='dbfs:/mnt/bde-assignment2/yearly_data/', name='yearly_data/', size=0, modificationTime=1726290623000),\n",
      " FileInfo(path='dbfs:/mnt/bde-assignment2/yellow_taxi_2015.parquet', name='yellow_taxi_2015.parquet', size=2896588873, modificationTime=1726239776000),\n",
      " FileInfo(path='dbfs:/mnt/bde-assignment2/yellow_taxi_2016.parquet', name='yellow_taxi_2016.parquet', size=2616839324, modificationTime=1726239574000),\n",
      " FileInfo(path='dbfs:/mnt/bde-assignment2/yellow_taxi_2017.parquet', name='yellow_taxi_2017.parquet', size=2072273391, modificationTime=1726238434000),\n",
      " FileInfo(path='dbfs:/mnt/bde-assignment2/yellow_taxi_2018.parquet', name='yellow_taxi_2018.parquet', size=2098068908, modificationTime=1726238449000),\n",
      " FileInfo(path='dbfs:/mnt/bde-assignment2/yellow_taxi_2019.parquet', name='yellow_taxi_2019.parquet', size=1788371641, modificationTime=1726239646000),\n",
      " FileInfo(path='dbfs:/mnt/bde-assignment2/yellow_taxi_2020.parquet', name='yellow_taxi_2020.parquet', size=533759081, modificationTime=1726239595000),\n",
      " FileInfo(path='dbfs:/mnt/bde-assignment2/yellow_taxi_2021.parquet', name='yellow_taxi_2021.parquet', size=678942509, modificationTime=1726239734000),\n",
      " FileInfo(path='dbfs:/mnt/bde-assignment2/yellow_taxi_2022.parquet', name='yellow_taxi_2022.parquet', size=875304042, modificationTime=1726235767000)]"
     ]
    }
   ],
   "source": [
    "dbutils.fs.ls(\"mnt/bde-assignment2/\")"
   ]
  },
  {
   "cell_type": "markdown",
   "metadata": {
    "application/vnd.databricks.v1+cell": {
     "cellMetadata": {},
     "inputWidgets": {},
     "nuid": "0137e836-8742-4ab8-addb-d9d85433a289",
     "showTitle": false,
     "title": ""
    }
   },
   "source": [
    "1. Read Parquets files from Azure"
   ]
  },
  {
   "cell_type": "code",
   "execution_count": null,
   "metadata": {
    "application/vnd.databricks.v1+cell": {
     "cellMetadata": {},
     "inputWidgets": {},
     "nuid": "61cad621-2dce-404f-8c09-87b878fa391a",
     "showTitle": false,
     "title": ""
    }
   },
   "outputs": [],
   "source": [
    "from pyspark.sql import SparkSession\n",
    "\n",
    "# Read Yellow taxi Parquets \n",
    "spark = SparkSession.builder.appName(\"Parquet Migration\").getOrCreate()\n",
    "\n",
    "files = [\n",
    "    {\"path\": \"/mnt/bde-assignment2/yellow_taxi_2015.parquet\", \"year\": 2015},\n",
    "    {\"path\": \"/mnt/bde-assignment2/yellow_taxi_2016.parquet\", \"year\": 2016},\n",
    "    {\"path\": \"/mnt/bde-assignment2/yellow_taxi_2017.parquet\", \"year\": 2017},\n",
    "    {\"path\": \"/mnt/bde-assignment2/yellow_taxi_2018.parquet\", \"year\": 2018},\n",
    "    {\"path\": \"/mnt/bde-assignment2/yellow_taxi_2019.parquet\", \"year\": 2019},\n",
    "    {\"path\": \"/mnt/bde-assignment2/yellow_taxi_2020.parquet\", \"year\": 2020},\n",
    "    {\"path\": \"/mnt/bde-assignment2/yellow_taxi_2021.parquet\", \"year\": 2021},\n",
    "    {\"path\": \"/mnt/bde-assignment2/yellow_taxi_2022.parquet\", \"year\": 2022}\n",
    "]\n",
    "\n",
    "for file in files:\n",
    "    file_path = file[\"path\"]\n",
    "    year = file[\"year\"]\n",
    "    \n",
    "    try:\n",
    "        \n",
    "        df = spark.read.parquet(file_path)\n",
    "        \n",
    "        destination_path = f\"/dbfs/mnt/bde-assignment2/yearly_data/{file_path.split('/')[-1]}\"\n",
    "        \n",
    "        df.write.mode('overwrite').parquet(destination_path)\n",
    "        \n",
    "        print(f\"Successfully written {file_path} to {destination_path}\")\n",
    "    except Exception as e:\n",
    "        print(f\"Failed to process {file_path}: {str(e)}\")\n"
   ]
  },
  {
   "cell_type": "code",
   "execution_count": null,
   "metadata": {
    "application/vnd.databricks.v1+cell": {
     "cellMetadata": {
      "byteLimit": 2048000,
      "rowLimit": 10000
     },
     "inputWidgets": {},
     "nuid": "b57982c0-fad0-4252-aee6-35927538e26f",
     "showTitle": false,
     "title": ""
    }
   },
   "outputs": [
    {
     "name": "stdout",
     "output_type": "stream",
     "text": [
      "Successfully written /mnt/bde-assignment2/green_taxi_2015.parquet to /dbfs/mnt/bde-assignment2/yearly_data/green_taxi_2015.parquet\n",
      "Successfully written /mnt/bde-assignment2/green_taxi_2016.parquet to /dbfs/mnt/bde-assignment2/yearly_data/green_taxi_2016.parquet\n",
      "Successfully written /mnt/bde-assignment2/green_taxi_2017.parquet to /dbfs/mnt/bde-assignment2/yearly_data/green_taxi_2017.parquet\n",
      "Successfully written /mnt/bde-assignment2/green_taxi_2018.parquet to /dbfs/mnt/bde-assignment2/yearly_data/green_taxi_2018.parquet\n",
      "Successfully written /mnt/bde-assignment2/green_taxi_2019.parquet to /dbfs/mnt/bde-assignment2/yearly_data/green_taxi_2019.parquet\n",
      "Successfully written /mnt/bde-assignment2/green_taxi_2020.parquet to /dbfs/mnt/bde-assignment2/yearly_data/green_taxi_2020.parquet\n",
      "Successfully written /mnt/bde-assignment2/green_taxi_2021.parquet to /dbfs/mnt/bde-assignment2/yearly_data/green_taxi_2021.parquet\n",
      "Successfully written /mnt/bde-assignment2/green_taxi_2022.parquet to /dbfs/mnt/bde-assignment2/yearly_data/green_taxi_2022.parquet\n"
     ]
    }
   ],
   "source": [
    "from pyspark.sql import SparkSession\n",
    "\n",
    "# Read Green taxi Parquets \n",
    "spark = SparkSession.builder.appName(\"Parquet Migration\").getOrCreate()\n",
    "\n",
    "files = [\n",
    "    {\"path\": \"/mnt/bde-assignment2/green_taxi_2015.parquet\", \"year\": 2015},\n",
    "    {\"path\": \"/mnt/bde-assignment2/green_taxi_2016.parquet\", \"year\": 2016},\n",
    "    {\"path\": \"/mnt/bde-assignment2/green_taxi_2017.parquet\", \"year\": 2017},\n",
    "    {\"path\": \"/mnt/bde-assignment2/green_taxi_2018.parquet\", \"year\": 2018},\n",
    "    {\"path\": \"/mnt/bde-assignment2/green_taxi_2019.parquet\", \"year\": 2019},\n",
    "    {\"path\": \"/mnt/bde-assignment2/green_taxi_2020.parquet\", \"year\": 2020},\n",
    "    {\"path\": \"/mnt/bde-assignment2/green_taxi_2021.parquet\", \"year\": 2021},\n",
    "    {\"path\": \"/mnt/bde-assignment2/green_taxi_2022.parquet\", \"year\": 2022}\n",
    "]\n",
    "\n",
    "for file in files:\n",
    "    file_path = file[\"path\"]\n",
    "    year = file[\"year\"]\n",
    "    \n",
    "    try:\n",
    "        \n",
    "        df = spark.read.parquet(file_path)\n",
    "        \n",
    "        destination_path = f\"/dbfs/mnt/bde-assignment2/yearly_data/{file_path.split('/')[-1]}\"\n",
    "        \n",
    "        df.write.mode('overwrite').parquet(destination_path)\n",
    "        \n",
    "        print(f\"Successfully written {file_path} to {destination_path}\")\n",
    "    except Exception as e:\n",
    "        print(f\"Failed to process {file_path}: {str(e)}\")\n"
   ]
  },
  {
   "cell_type": "markdown",
   "metadata": {
    "application/vnd.databricks.v1+cell": {
     "cellMetadata": {},
     "inputWidgets": {},
     "nuid": "7cd16684-3dee-4c31-aaef-b3460e745b4d",
     "showTitle": false,
     "title": ""
    }
   },
   "source": [
    "2. Combine yearly parquets to one integrated Parquet"
   ]
  },
  {
   "cell_type": "code",
   "execution_count": null,
   "metadata": {
    "application/vnd.databricks.v1+cell": {
     "cellMetadata": {},
     "inputWidgets": {},
     "nuid": "e22392f5-d96c-4678-b728-88a386e33af9",
     "showTitle": false,
     "title": ""
    }
   },
   "outputs": [],
   "source": [
    "from pyspark.sql import SparkSession\n",
    "from pyspark.sql import DataFrame\n",
    "\n",
    "# Yellow taxi\n",
    "spark = SparkSession.builder.appName(\"Parquet Combine\").getOrCreate()\n",
    "\n",
    "files = [\n",
    "    \"/dbfs/mnt/bde-assignment2/yearly_data/yellow_taxi_2015.parquet\",\n",
    "    \"/dbfs/mnt/bde-assignment2/yearly_data/yellow_taxi_2016.parquet\",\n",
    "    \"/dbfs/mnt/bde-assignment2/yearly_data/yellow_taxi_2017.parquet\",\n",
    "    \"/dbfs/mnt/bde-assignment2/yearly_data/yellow_taxi_2018.parquet\",\n",
    "    \"/dbfs/mnt/bde-assignment2/yearly_data/yellow_taxi_2019.parquet\",\n",
    "    \"/dbfs/mnt/bde-assignment2/yearly_data/yellow_taxi_2020.parquet\",\n",
    "    \"/dbfs/mnt/bde-assignment2/yearly_data/yellow_taxi_2021.parquet\",\n",
    "    \"/dbfs/mnt/bde-assignment2/yearly_data/yellow_taxi_2022.parquet\"\n",
    "]\n",
    "\n",
    "combined_df = None\n",
    "for file in files:\n",
    "    try:\n",
    "        df = spark.read.parquet(file)\n",
    "        if combined_df is None:\n",
    "            combined_df = df\n",
    "        else:\n",
    "            combined_df = combined_df.union(df)\n",
    "        print(f\"Successfully read {file}\")\n",
    "    except Exception as e:\n",
    "        print(f\"Failed to process {file}: {str(e)}\")"
   ]
  },
  {
   "cell_type": "code",
   "execution_count": null,
   "metadata": {
    "application/vnd.databricks.v1+cell": {
     "cellMetadata": {},
     "inputWidgets": {},
     "nuid": "084f3895-1328-4530-bf65-5f9706c17d2b",
     "showTitle": false,
     "title": ""
    }
   },
   "outputs": [],
   "source": [
    "if combined_df is not None:\n",
    "    destination_path = \"/dbfs/mnt/bde-assignment2/yearly_data/combined_yt_data.parquet\"\n",
    "    try:\n",
    "        combined_df.write.mode('overwrite').parquet(destination_path)\n",
    "        print(f\"Successfully written combined data to {destination_path}\")\n",
    "    except Exception as e:\n",
    "        print(f\"Failed to write combined data: {str(e)}\")"
   ]
  },
  {
   "cell_type": "code",
   "execution_count": null,
   "metadata": {
    "application/vnd.databricks.v1+cell": {
     "cellMetadata": {},
     "inputWidgets": {},
     "nuid": "29547b8e-7cd9-4c86-9f22-41d359a5e2b7",
     "showTitle": false,
     "title": ""
    }
   },
   "outputs": [],
   "source": [
    "# Green taxi\n",
    "\n",
    "files2 = [\n",
    "    \"/dbfs/mnt/bde-assignment2/yearly_data/green_taxi_2015.parquet\",\n",
    "    \"/dbfs/mnt/bde-assignment2/yearly_data/green_taxi_2016.parquet\",\n",
    "    \"/dbfs/mnt/bde-assignment2/yearly_data/green_taxi_2017.parquet\",\n",
    "    \"/dbfs/mnt/bde-assignment2/yearly_data/green_taxi_2018.parquet\",\n",
    "    \"/dbfs/mnt/bde-assignment2/yearly_data/green_taxi_2019.parquet\",\n",
    "    \"/dbfs/mnt/bde-assignment2/yearly_data/green_taxi_2020.parquet\",\n",
    "    \"/dbfs/mnt/bde-assignment2/yearly_data/green_taxi_2021.parquet\",\n",
    "    \"/dbfs/mnt/bde-assignment2/yearly_data/green_taxi_2022.parquet\"\n",
    "]\n",
    "\n",
    "green_df = None\n",
    "for file in files2:\n",
    "    try:\n",
    "        df = spark.read.parquet(file)\n",
    "        if green_df is None:\n",
    "            green_df = df\n",
    "        else:\n",
    "            green_df = green_df.union(df)\n",
    "        print(f\"Successfully read {file}\")\n",
    "    except Exception as e:\n",
    "        print(f\"Failed to process {file}: {str(e)}\")"
   ]
  },
  {
   "cell_type": "code",
   "execution_count": null,
   "metadata": {
    "application/vnd.databricks.v1+cell": {
     "cellMetadata": {},
     "inputWidgets": {},
     "nuid": "50c3504d-62c1-4862-bf44-29df2cd85b7e",
     "showTitle": false,
     "title": ""
    }
   },
   "outputs": [],
   "source": [
    "if green_df is not None:\n",
    "    destination_path = \"/dbfs/mnt/bde-assignment2/yearly_data/combined_gt_data.parquet\"\n",
    "    try:\n",
    "        green_df.write.mode('overwrite').parquet(destination_path)\n",
    "        print(f\"Successfully written combined data to {destination_path}\")\n",
    "    except Exception as e:\n",
    "        print(f\"Failed to write combined data: {str(e)}\")"
   ]
  },
  {
   "cell_type": "code",
   "execution_count": null,
   "metadata": {
    "application/vnd.databricks.v1+cell": {
     "cellMetadata": {
      "byteLimit": 2048000,
      "rowLimit": 10000
     },
     "inputWidgets": {},
     "nuid": "b7ba8d44-f9e9-4c68-9dc6-3b8a1d911b73",
     "showTitle": false,
     "title": ""
    }
   },
   "outputs": [],
   "source": [
    "gt_total = spark.read.parquet(\"/dbfs/mnt/bde-assignment2/yearly_data/combined_gt_data.parquet/\")\n",
    "\n",
    "yt_total = spark.read.parquet(\"/dbfs/mnt/bde-assignment2/yearly_data/combined_yt_data.parquet/\")"
   ]
  },
  {
   "cell_type": "code",
   "execution_count": null,
   "metadata": {
    "application/vnd.databricks.v1+cell": {
     "cellMetadata": {
      "byteLimit": 2048000,
      "rowLimit": 10000
     },
     "inputWidgets": {},
     "nuid": "71c73545-e84b-438d-8d8c-40ce1fee322d",
     "showTitle": false,
     "title": ""
    }
   },
   "outputs": [
    {
     "name": "stdout",
     "output_type": "stream",
     "text": [
      "Out[8]: 66200401"
     ]
    }
   ],
   "source": [
    "# Green taxi: 66,200,401\n",
    "gt_total.count()"
   ]
  },
  {
   "cell_type": "code",
   "execution_count": null,
   "metadata": {
    "application/vnd.databricks.v1+cell": {
     "cellMetadata": {
      "byteLimit": 2048000,
      "rowLimit": 10000
     },
     "inputWidgets": {},
     "nuid": "4172a2ef-74a6-4431-91d5-d25b0145e46d",
     "showTitle": false,
     "title": ""
    }
   },
   "outputs": [
    {
     "name": "stdout",
     "output_type": "stream",
     "text": [
      "Out[9]: 663055251"
     ]
    }
   ],
   "source": [
    "# Yellow taxi: 663,055,251\n",
    "yt_total.count()"
   ]
  },
  {
   "cell_type": "markdown",
   "metadata": {
    "application/vnd.databricks.v1+cell": {
     "cellMetadata": {},
     "inputWidgets": {},
     "nuid": "8ef0a7f2-85c9-4f85-a807-27e87da41045",
     "showTitle": false,
     "title": ""
    }
   },
   "source": [
    "3. Convert the green_taxi_2015 parquet into a .csv and send it to Azure"
   ]
  },
  {
   "cell_type": "code",
   "execution_count": null,
   "metadata": {
    "application/vnd.databricks.v1+cell": {
     "cellMetadata": {
      "byteLimit": 2048000,
      "rowLimit": 10000
     },
     "inputWidgets": {},
     "nuid": "461f8918-20aa-4a0d-bd5b-0cc581ae27c2",
     "showTitle": false,
     "title": ""
    }
   },
   "outputs": [],
   "source": [
    "gt_2015 = spark.read.parquet(\"/dbfs/mnt/bde-assignment2/yearly_data/green_taxi_2015.parquet/\")"
   ]
  },
  {
   "cell_type": "code",
   "execution_count": null,
   "metadata": {
    "application/vnd.databricks.v1+cell": {
     "cellMetadata": {
      "byteLimit": 2048000,
      "rowLimit": 10000
     },
     "inputWidgets": {},
     "nuid": "01c2a506-7052-4a18-8ec6-3a7215818a7d",
     "showTitle": false,
     "title": ""
    }
   },
   "outputs": [
    {
     "name": "stdout",
     "output_type": "stream",
     "text": [
      "root\n",
      " |-- VendorID: long (nullable = true)\n",
      " |-- lpep_pickup_datetime: timestamp (nullable = true)\n",
      " |-- lpep_dropoff_datetime: timestamp (nullable = true)\n",
      " |-- store_and_fwd_flag: string (nullable = true)\n",
      " |-- RatecodeID: double (nullable = true)\n",
      " |-- PULocationID: long (nullable = true)\n",
      " |-- DOLocationID: long (nullable = true)\n",
      " |-- passenger_count: double (nullable = true)\n",
      " |-- trip_distance: double (nullable = true)\n",
      " |-- fare_amount: double (nullable = true)\n",
      " |-- extra: double (nullable = true)\n",
      " |-- mta_tax: double (nullable = true)\n",
      " |-- tip_amount: double (nullable = true)\n",
      " |-- tolls_amount: double (nullable = true)\n",
      " |-- ehail_fee: double (nullable = true)\n",
      " |-- improvement_surcharge: double (nullable = true)\n",
      " |-- total_amount: double (nullable = true)\n",
      " |-- payment_type: double (nullable = true)\n",
      " |-- trip_type: double (nullable = true)\n",
      " |-- congestion_surcharge: double (nullable = true)\n",
      "\n"
     ]
    }
   ],
   "source": [
    "gt_2015.printSchema()"
   ]
  },
  {
   "cell_type": "code",
   "execution_count": null,
   "metadata": {
    "application/vnd.databricks.v1+cell": {
     "cellMetadata": {
      "byteLimit": 2048000,
      "rowLimit": 10000
     },
     "inputWidgets": {},
     "nuid": "206fe84d-cc47-43ef-bf8b-38ab3c655deb",
     "showTitle": false,
     "title": ""
    }
   },
   "outputs": [],
   "source": [
    "gt_2015.write.csv(\"/mnt/bde-assignment2/green_2015#\")"
   ]
  },
  {
   "cell_type": "code",
   "execution_count": null,
   "metadata": {
    "application/vnd.databricks.v1+cell": {
     "cellMetadata": {
      "byteLimit": 2048000,
      "rowLimit": 10000
     },
     "inputWidgets": {},
     "nuid": "95bb11a4-19de-4e73-b901-56d507178afb",
     "showTitle": false,
     "title": ""
    }
   },
   "outputs": [],
   "source": [
    "# After merging to one csv file, file size is 2.03gb\n",
    "\n",
    "from pyspark.sql import SparkSession\n",
    "\n",
    "spark = SparkSession.builder.appName(\"Merge CSV\").getOrCreate()\n",
    "\n",
    "folder_path = \"/mnt/bde-assignment2/green_2015/\"\n",
    "\n",
    "df = spark.read.option(\"header\", \"true\").csv(folder_path)\n",
    "\n",
    "output_path = \"/mnt/bde-assignment2/green_2015/merged_green_taxi_2015.csv\"\n",
    "df.coalesce(1).write.mode('overwrite').option(\"header\", \"true\").csv(output_path)\n"
   ]
  },
  {
   "cell_type": "markdown",
   "metadata": {
    "application/vnd.databricks.v1+cell": {
     "cellMetadata": {},
     "inputWidgets": {},
     "nuid": "16cc0816-6c24-483e-afdf-e075c7e9009a",
     "showTitle": false,
     "title": ""
    }
   },
   "source": [
    "4. EDA & Data Engineering \n",
    " - Use 2015 data to explore the dataset and do cleansing integrated dataset"
   ]
  },
  {
   "cell_type": "code",
   "execution_count": null,
   "metadata": {
    "application/vnd.databricks.v1+cell": {
     "cellMetadata": {
      "byteLimit": 2048000,
      "rowLimit": 10000
     },
     "inputWidgets": {},
     "nuid": "fff5d083-e543-4acf-8010-e6049c89276f",
     "showTitle": false,
     "title": ""
    }
   },
   "outputs": [],
   "source": [
    "yellow_2015 = spark.read.parquet(\"/dbfs/mnt/bde-assignment2/yearly_data/yellow_taxi_2015.parquet/\")\n",
    "\n",
    "green_2015 = spark.read.parquet(\"/dbfs/mnt/bde-assignment2/yearly_data/green_taxi_2015.parquet/\")"
   ]
  },
  {
   "cell_type": "code",
   "execution_count": null,
   "metadata": {
    "application/vnd.databricks.v1+cell": {
     "cellMetadata": {
      "byteLimit": 2048000,
      "rowLimit": 10000
     },
     "inputWidgets": {},
     "nuid": "36f5e70c-e10b-4709-af4b-99161eefeb6b",
     "showTitle": false,
     "title": ""
    }
   },
   "outputs": [
    {
     "name": "stdout",
     "output_type": "stream",
     "text": [
      "root\n",
      " |-- VendorID: long (nullable = true)\n",
      " |-- tpep_pickup_datetime: timestamp (nullable = true)\n",
      " |-- tpep_dropoff_datetime: timestamp (nullable = true)\n",
      " |-- passenger_count: double (nullable = true)\n",
      " |-- trip_distance: double (nullable = true)\n",
      " |-- RatecodeID: double (nullable = true)\n",
      " |-- store_and_fwd_flag: string (nullable = true)\n",
      " |-- PULocationID: long (nullable = true)\n",
      " |-- DOLocationID: long (nullable = true)\n",
      " |-- payment_type: long (nullable = true)\n",
      " |-- fare_amount: double (nullable = true)\n",
      " |-- extra: double (nullable = true)\n",
      " |-- mta_tax: double (nullable = true)\n",
      " |-- tip_amount: double (nullable = true)\n",
      " |-- tolls_amount: double (nullable = true)\n",
      " |-- improvement_surcharge: double (nullable = true)\n",
      " |-- total_amount: double (nullable = true)\n",
      " |-- congestion_surcharge: double (nullable = true)\n",
      " |-- airport_fee: double (nullable = true)\n",
      "\n"
     ]
    }
   ],
   "source": [
    "yellow_2015.printSchema()"
   ]
  },
  {
   "cell_type": "code",
   "execution_count": null,
   "metadata": {
    "application/vnd.databricks.v1+cell": {
     "cellMetadata": {
      "byteLimit": 2048000,
      "rowLimit": 10000
     },
     "inputWidgets": {},
     "nuid": "80d97cd9-0c5d-4e5e-b126-2c62c88dedab",
     "showTitle": false,
     "title": ""
    }
   },
   "outputs": [],
   "source": [
    "import pyspark.sql.functions as F\n",
    "from pyspark.sql.functions import col, unix_timestamp, when, expr\n",
    "from pyspark.sql.types import IntegerType, StringType\n",
    "spark.conf.set(\"spark.sql.legacy.timeParserPolicy\", \"LEGACY\")"
   ]
  },
  {
   "cell_type": "code",
   "execution_count": null,
   "metadata": {
    "application/vnd.databricks.v1+cell": {
     "cellMetadata": {
      "byteLimit": 2048000,
      "rowLimit": 10000
     },
     "inputWidgets": {},
     "nuid": "e239cd9a-5f83-40a7-a1b0-2cb789eb4775",
     "showTitle": false,
     "title": ""
    }
   },
   "outputs": [],
   "source": [
    "yellow_2015.createOrReplaceTempView(\"yellow_2015_view\")"
   ]
  },
  {
   "cell_type": "code",
   "execution_count": null,
   "metadata": {
    "application/vnd.databricks.v1+cell": {
     "cellMetadata": {
      "byteLimit": 2048000,
      "rowLimit": 10000
     },
     "inputWidgets": {},
     "nuid": "5fd1926f-6b94-4659-8942-5ce45f5e0546",
     "showTitle": false,
     "title": ""
    }
   },
   "outputs": [
    {
     "name": "stdout",
     "output_type": "stream",
     "text": [
      "+--------+\n",
      "|count(1)|\n",
      "+--------+\n",
      "|    3917|\n",
      "+--------+\n",
      "\n"
     ]
    }
   ],
   "source": [
    "spark.sql(\"\"\"\n",
    "    SELECT count(*)\n",
    "    FROM yellow_2015_view\n",
    "    WHERE tpep_dropoff_datetime < tpep_pickup_datetime\n",
    "\"\"\").show()"
   ]
  },
  {
   "cell_type": "code",
   "execution_count": null,
   "metadata": {
    "application/vnd.databricks.v1+cell": {
     "cellMetadata": {
      "byteLimit": 2048000,
      "implicitDf": true,
      "rowLimit": 10000
     },
     "inputWidgets": {},
     "nuid": "eb241962-f150-49c7-a663-ba43e936df86",
     "showTitle": false,
     "title": ""
    }
   },
   "outputs": [
    {
     "data": {
      "text/html": [
       "<style scoped>\n",
       "  .table-result-container {\n",
       "    max-height: 300px;\n",
       "    overflow: auto;\n",
       "  }\n",
       "  table, th, td {\n",
       "    border: 1px solid black;\n",
       "    border-collapse: collapse;\n",
       "  }\n",
       "  th, td {\n",
       "    padding: 5px;\n",
       "  }\n",
       "  th {\n",
       "    text-align: left;\n",
       "  }\n",
       "</style><div class='table-result-container'><table class='table-result'><thead style='background-color: white'><tr><th>VendorID</th><th>tpep_pickup_datetime</th><th>tpep_dropoff_datetime</th><th>passenger_count</th><th>trip_distance</th><th>RatecodeID</th><th>store_and_fwd_flag</th><th>PULocationID</th><th>DOLocationID</th><th>payment_type</th><th>fare_amount</th><th>extra</th><th>mta_tax</th><th>tip_amount</th><th>tolls_amount</th><th>improvement_surcharge</th><th>total_amount</th><th>congestion_surcharge</th><th>airport_fee</th></tr></thead><tbody><tr><td>1</td><td>2015-04-24T08:27:04.000+0000</td><td>2015-04-24T08:29:40.000+0000</td><td>1.0</td><td>-186318.4</td><td>99.0</td><td>N</td><td>146</td><td>7</td><td>2</td><td>2.5</td><td>0.0</td><td>0.5</td><td>0.0</td><td>0.0</td><td>0.3</td><td>3.3</td><td>null</td><td>null</td></tr><tr><td>1</td><td>2015-02-05T07:02:26.000+0000</td><td>2015-02-05T07:02:29.000+0000</td><td>1.0</td><td>-4.08401244E7</td><td>1.0</td><td>N</td><td>132</td><td>132</td><td>3</td><td>2.5</td><td>0.5</td><td>0.5</td><td>0.0</td><td>0.0</td><td>0.3</td><td>3.8</td><td>null</td><td>null</td></tr><tr><td>1</td><td>2015-02-07T15:56:13.000+0000</td><td>2015-02-07T15:57:03.000+0000</td><td>3.0</td><td>-4.00955322E7</td><td>5.0</td><td>N</td><td>263</td><td>263</td><td>1</td><td>0.0</td><td>0.0</td><td>0.0</td><td>1.0</td><td>0.0</td><td>0.3</td><td>1.3</td><td>null</td><td>null</td></tr></tbody></table></div>"
      ]
     },
     "metadata": {
      "application/vnd.databricks.v1+output": {
       "addedWidgets": {},
       "aggData": [],
       "aggError": "",
       "aggOverflow": false,
       "aggSchema": [],
       "aggSeriesLimitReached": false,
       "aggType": "",
       "arguments": {},
       "columnCustomDisplayInfos": {},
       "data": [
        [
         1,
         "2015-04-24T08:27:04.000+0000",
         "2015-04-24T08:29:40.000+0000",
         1,
         -186318.4,
         99,
         "N",
         146,
         7,
         2,
         2.5,
         0,
         0.5,
         0,
         0,
         0.3,
         3.3,
         null,
         null
        ],
        [
         1,
         "2015-02-05T07:02:26.000+0000",
         "2015-02-05T07:02:29.000+0000",
         1,
         -40840124.4,
         1,
         "N",
         132,
         132,
         3,
         2.5,
         0.5,
         0.5,
         0,
         0,
         0.3,
         3.8,
         null,
         null
        ],
        [
         1,
         "2015-02-07T15:56:13.000+0000",
         "2015-02-07T15:57:03.000+0000",
         3,
         -40095532.2,
         5,
         "N",
         263,
         263,
         1,
         0,
         0,
         0,
         1,
         0,
         0.3,
         1.3,
         null,
         null
        ]
       ],
       "datasetInfos": [],
       "dbfsResultPath": null,
       "isJsonSchema": true,
       "metadata": {},
       "overflow": false,
       "plotOptions": {
        "customPlotOptions": {},
        "displayType": "table",
        "pivotAggregation": null,
        "pivotColumns": null,
        "xColumns": null,
        "yColumns": null
       },
       "removedWidgets": [],
       "schema": [
        {
         "metadata": "{}",
         "name": "VendorID",
         "type": "\"long\""
        },
        {
         "metadata": "{}",
         "name": "tpep_pickup_datetime",
         "type": "\"timestamp\""
        },
        {
         "metadata": "{}",
         "name": "tpep_dropoff_datetime",
         "type": "\"timestamp\""
        },
        {
         "metadata": "{}",
         "name": "passenger_count",
         "type": "\"double\""
        },
        {
         "metadata": "{}",
         "name": "trip_distance",
         "type": "\"double\""
        },
        {
         "metadata": "{}",
         "name": "RatecodeID",
         "type": "\"double\""
        },
        {
         "metadata": "{}",
         "name": "store_and_fwd_flag",
         "type": "\"string\""
        },
        {
         "metadata": "{}",
         "name": "PULocationID",
         "type": "\"long\""
        },
        {
         "metadata": "{}",
         "name": "DOLocationID",
         "type": "\"long\""
        },
        {
         "metadata": "{}",
         "name": "payment_type",
         "type": "\"long\""
        },
        {
         "metadata": "{}",
         "name": "fare_amount",
         "type": "\"double\""
        },
        {
         "metadata": "{}",
         "name": "extra",
         "type": "\"double\""
        },
        {
         "metadata": "{}",
         "name": "mta_tax",
         "type": "\"double\""
        },
        {
         "metadata": "{}",
         "name": "tip_amount",
         "type": "\"double\""
        },
        {
         "metadata": "{}",
         "name": "tolls_amount",
         "type": "\"double\""
        },
        {
         "metadata": "{}",
         "name": "improvement_surcharge",
         "type": "\"double\""
        },
        {
         "metadata": "{}",
         "name": "total_amount",
         "type": "\"double\""
        },
        {
         "metadata": "{}",
         "name": "congestion_surcharge",
         "type": "\"double\""
        },
        {
         "metadata": "{}",
         "name": "airport_fee",
         "type": "\"double\""
        }
       ],
       "type": "table"
      }
     },
     "output_type": "display_data"
    }
   ],
   "source": [
    "%sql\n",
    "SELECT * FROM yellow_2015_view where trip_distance < 0"
   ]
  },
  {
   "cell_type": "code",
   "execution_count": null,
   "metadata": {
    "application/vnd.databricks.v1+cell": {
     "cellMetadata": {
      "byteLimit": 2048000,
      "rowLimit": 10000
     },
     "inputWidgets": {},
     "nuid": "d6b81413-1e2a-4a69-b103-51fbe2c69888",
     "showTitle": false,
     "title": ""
    }
   },
   "outputs": [],
   "source": [
    "yellow_2015_with_duration = yellow_2015_with_duration.withColumn(\"Trip_distance_km\", col(\"Trip_distance\") * 1.60934 )"
   ]
  },
  {
   "cell_type": "code",
   "execution_count": null,
   "metadata": {
    "application/vnd.databricks.v1+cell": {
     "cellMetadata": {
      "byteLimit": 2048000,
      "rowLimit": 10000
     },
     "inputWidgets": {},
     "nuid": "fc88a13d-e1b4-4f1d-8b39-30b1543c123f",
     "showTitle": false,
     "title": ""
    }
   },
   "outputs": [
    {
     "name": "stdout",
     "output_type": "stream",
     "text": [
      "+-------------+------------------+\n",
      "|trip_distance|  trip_distance_km|\n",
      "+-------------+------------------+\n",
      "|         0.42|0.6759227999999999|\n",
      "|         16.8|         27.036912|\n",
      "|          8.9|         14.323126|\n",
      "|         0.75|          1.207005|\n",
      "|         1.11|         1.7863674|\n",
      "|         6.57|10.573363800000001|\n",
      "|         10.0|           16.0934|\n",
      "|          2.1|          3.379614|\n",
      "|          1.8|          2.896812|\n",
      "|          2.5|           4.02335|\n",
      "|          0.4|0.6437360000000001|\n",
      "|          0.5|           0.80467|\n",
      "|         1.84|2.9611856000000003|\n",
      "|          0.0|               0.0|\n",
      "|         3.16|         5.0855144|\n",
      "|         0.67|         1.0782578|\n",
      "|         8.69|        13.9851646|\n",
      "|         2.43|3.9106962000000003|\n",
      "|         1.92|3.0899327999999997|\n",
      "|         3.58|5.7614372000000005|\n",
      "+-------------+------------------+\n",
      "only showing top 20 rows\n",
      "\n"
     ]
    }
   ],
   "source": [
    "yellow_2015_with_duration.select(\"trip_distance\", \"trip_distance_km\").show()"
   ]
  },
  {
   "cell_type": "code",
   "execution_count": null,
   "metadata": {
    "application/vnd.databricks.v1+cell": {
     "cellMetadata": {
      "byteLimit": 2048000,
      "rowLimit": 10000
     },
     "inputWidgets": {},
     "nuid": "606c8796-9220-467f-9206-7c7e1e6c6d66",
     "showTitle": false,
     "title": ""
    }
   },
   "outputs": [
    {
     "name": "stdout",
     "output_type": "stream",
     "text": [
      "+-------+--------------------+\n",
      "|summary|       trip_duration|\n",
      "+-------+--------------------+\n",
      "|  count|           146039231|\n",
      "|   mean|  19.724179739640576|\n",
      "| stddev|  26463.156611304476|\n",
      "|    min|-6.100172596666667E7|\n",
      "|    max|1.2537316083333333E8|\n",
      "+-------+--------------------+\n",
      "\n",
      "+-------+--------------------+\n",
      "|summary|       trip_duration|\n",
      "+-------+--------------------+\n",
      "|  count|           146039231|\n",
      "|   mean|  19.724179739640576|\n",
      "| stddev|  26463.156611304476|\n",
      "|    min|-6.100172596666667E7|\n",
      "|    25%|   6.633333333333334|\n",
      "|    50%|  11.066666666666666|\n",
      "|    75%|  17.933333333333334|\n",
      "|    max|1.2537316083333333E8|\n",
      "+-------+--------------------+\n",
      "\n"
     ]
    }
   ],
   "source": [
    "yellow_2015_with_duration = yellow_2015.withColumn(\n",
    "    \"trip_duration\",\n",
    "    (F.unix_timestamp(\"tpep_dropoff_datetime\") - F.unix_timestamp(\"tpep_pickup_datetime\")) / 60\n",
    ")\n",
    "\n",
    "yellow_2015_with_duration.select(\"trip_duration\").summary().show()\n"
   ]
  },
  {
   "cell_type": "code",
   "execution_count": null,
   "metadata": {
    "application/vnd.databricks.v1+cell": {
     "cellMetadata": {
      "byteLimit": 2048000,
      "rowLimit": 10000
     },
     "inputWidgets": {},
     "nuid": "5f18678f-695d-490b-8cad-5e735d9c46fc",
     "showTitle": false,
     "title": ""
    }
   },
   "outputs": [
    {
     "name": "stdout",
     "output_type": "stream",
     "text": [
      "+-------+--------------------+\n",
      "|summary|           speed_kmh|\n",
      "+-------+--------------------+\n",
      "|  count|           146039231|\n",
      "|   mean|   -434.187992617175|\n",
      "| stddev|   6551965.311300155|\n",
      "|    min|-7.88707749622751...|\n",
      "|    25%|  12.388881509433963|\n",
      "|    50%|  16.990099706744868|\n",
      "|    75%|  23.174495999999998|\n",
      "|    max| 4.955362957088452E9|\n",
      "+-------+--------------------+\n",
      "\n"
     ]
    }
   ],
   "source": [
    "yellow_2015_with_duration = yellow_2015_with_duration.withColumn(\"speed_kmh\", \n",
    "                   when(col(\"trip_duration\") > 0, col(\"trip_distance_km\") / (col(\"trip_duration\") / 60)).otherwise(-1))\n",
    "\n",
    "yellow_2015_with_duration.select(\"speed_kmh\").summary().show()"
   ]
  },
  {
   "cell_type": "code",
   "execution_count": null,
   "metadata": {
    "application/vnd.databricks.v1+cell": {
     "cellMetadata": {
      "byteLimit": 2048000,
      "rowLimit": 10000
     },
     "inputWidgets": {},
     "nuid": "942f7778-3d6b-4590-bc07-004d4b2d41a2",
     "showTitle": false,
     "title": ""
    }
   },
   "outputs": [],
   "source": [
    "yellow_2015_with_duration.createOrReplaceTempView(\"yellow_2015_view\")"
   ]
  },
  {
   "cell_type": "code",
   "execution_count": null,
   "metadata": {
    "application/vnd.databricks.v1+cell": {
     "cellMetadata": {
      "byteLimit": 2048000,
      "rowLimit": 10000
     },
     "inputWidgets": {},
     "nuid": "abf419ab-1780-4574-b573-78ff951b34bb",
     "showTitle": false,
     "title": ""
    }
   },
   "outputs": [
    {
     "name": "stdout",
     "output_type": "stream",
     "text": [
      "+---------------+---------+\n",
      "|passenger_count|    count|\n",
      "+---------------+---------+\n",
      "|            8.0|      178|\n",
      "|            0.0|    40683|\n",
      "|            7.0|      227|\n",
      "|            1.0|102929283|\n",
      "|            4.0|  2980699|\n",
      "|            3.0|  6133786|\n",
      "|            2.0| 20893649|\n",
      "|            6.0|  5123186|\n",
      "|            5.0|  7937375|\n",
      "|            9.0|      165|\n",
      "+---------------+---------+\n",
      "\n"
     ]
    }
   ],
   "source": [
    "yellow_2015_with_duration.groupBy(\"passenger_count\").count().show()\n"
   ]
  },
  {
   "cell_type": "code",
   "execution_count": null,
   "metadata": {
    "application/vnd.databricks.v1+cell": {
     "cellMetadata": {
      "byteLimit": 2048000,
      "rowLimit": 10000
     },
     "inputWidgets": {},
     "nuid": "84c80a2b-02d8-4a7c-8944-0680eb5313be",
     "showTitle": false,
     "title": ""
    }
   },
   "outputs": [
    {
     "name": "stdout",
     "output_type": "stream",
     "text": [
      "+------------+-------+\n",
      "|DOLocationID|  count|\n",
      "+------------+-------+\n",
      "|          26|  32255|\n",
      "|          29|  13891|\n",
      "|          65| 277527|\n",
      "|         191|  14085|\n",
      "|         222|   4609|\n",
      "|         243| 273943|\n",
      "|          54|  45855|\n",
      "|          19|   7895|\n",
      "|         112| 494328|\n",
      "|         113|2140592|\n",
      "|         155|  17175|\n",
      "|         167|  20870|\n",
      "|         237|4598356|\n",
      "|         241|  25815|\n",
      "|          22|  31592|\n",
      "|         198|  99332|\n",
      "|         130|  38608|\n",
      "|         196|  59141|\n",
      "|           7| 756019|\n",
      "|          77|  10470|\n",
      "+------------+-------+\n",
      "only showing top 20 rows\n",
      "\n"
     ]
    }
   ],
   "source": [
    "yellow_2015_with_duration.groupBy(\"DOLocationID\").count().show()"
   ]
  },
  {
   "cell_type": "code",
   "execution_count": null,
   "metadata": {
    "application/vnd.databricks.v1+cell": {
     "cellMetadata": {
      "byteLimit": 2048000,
      "implicitDf": true,
      "rowLimit": 10000
     },
     "inputWidgets": {},
     "nuid": "28ed2d55-f6f2-453c-8e19-095594be45b9",
     "showTitle": false,
     "title": ""
    }
   },
   "outputs": [
    {
     "data": {
      "text/html": [
       "<style scoped>\n",
       "  .table-result-container {\n",
       "    max-height: 300px;\n",
       "    overflow: auto;\n",
       "  }\n",
       "  table, th, td {\n",
       "    border: 1px solid black;\n",
       "    border-collapse: collapse;\n",
       "  }\n",
       "  th, td {\n",
       "    padding: 5px;\n",
       "  }\n",
       "  th {\n",
       "    text-align: left;\n",
       "  }\n",
       "</style><div class='table-result-container'><table class='table-result'><thead style='background-color: white'><tr><th>VendorID</th><th>tpep_pickup_datetime</th><th>tpep_dropoff_datetime</th><th>passenger_count</th><th>trip_distance</th><th>RatecodeID</th><th>store_and_fwd_flag</th><th>PULocationID</th><th>DOLocationID</th><th>payment_type</th><th>fare_amount</th><th>extra</th><th>mta_tax</th><th>tip_amount</th><th>tolls_amount</th><th>improvement_surcharge</th><th>total_amount</th><th>congestion_surcharge</th><th>airport_fee</th><th>trip_duration</th><th>Trip_distance_km</th><th>speed_kmh</th></tr></thead><tbody></tbody></table></div>"
      ]
     },
     "metadata": {
      "application/vnd.databricks.v1+output": {
       "addedWidgets": {},
       "aggData": [],
       "aggError": "",
       "aggOverflow": false,
       "aggSchema": [],
       "aggSeriesLimitReached": false,
       "aggType": "",
       "arguments": {},
       "columnCustomDisplayInfos": {},
       "data": [],
       "datasetInfos": [],
       "dbfsResultPath": null,
       "isJsonSchema": true,
       "metadata": {},
       "overflow": false,
       "plotOptions": {
        "customPlotOptions": {},
        "displayType": "table",
        "pivotAggregation": null,
        "pivotColumns": null,
        "xColumns": null,
        "yColumns": null
       },
       "removedWidgets": [],
       "schema": [
        {
         "metadata": "{}",
         "name": "VendorID",
         "type": "\"long\""
        },
        {
         "metadata": "{}",
         "name": "tpep_pickup_datetime",
         "type": "\"timestamp\""
        },
        {
         "metadata": "{}",
         "name": "tpep_dropoff_datetime",
         "type": "\"timestamp\""
        },
        {
         "metadata": "{}",
         "name": "passenger_count",
         "type": "\"double\""
        },
        {
         "metadata": "{}",
         "name": "trip_distance",
         "type": "\"double\""
        },
        {
         "metadata": "{}",
         "name": "RatecodeID",
         "type": "\"double\""
        },
        {
         "metadata": "{}",
         "name": "store_and_fwd_flag",
         "type": "\"string\""
        },
        {
         "metadata": "{}",
         "name": "PULocationID",
         "type": "\"long\""
        },
        {
         "metadata": "{}",
         "name": "DOLocationID",
         "type": "\"long\""
        },
        {
         "metadata": "{}",
         "name": "payment_type",
         "type": "\"long\""
        },
        {
         "metadata": "{}",
         "name": "fare_amount",
         "type": "\"double\""
        },
        {
         "metadata": "{}",
         "name": "extra",
         "type": "\"double\""
        },
        {
         "metadata": "{}",
         "name": "mta_tax",
         "type": "\"double\""
        },
        {
         "metadata": "{}",
         "name": "tip_amount",
         "type": "\"double\""
        },
        {
         "metadata": "{}",
         "name": "tolls_amount",
         "type": "\"double\""
        },
        {
         "metadata": "{}",
         "name": "improvement_surcharge",
         "type": "\"double\""
        },
        {
         "metadata": "{}",
         "name": "total_amount",
         "type": "\"double\""
        },
        {
         "metadata": "{}",
         "name": "congestion_surcharge",
         "type": "\"double\""
        },
        {
         "metadata": "{}",
         "name": "airport_fee",
         "type": "\"double\""
        },
        {
         "metadata": "{}",
         "name": "trip_duration",
         "type": "\"double\""
        },
        {
         "metadata": "{}",
         "name": "Trip_distance_km",
         "type": "\"double\""
        },
        {
         "metadata": "{}",
         "name": "speed_kmh",
         "type": "\"double\""
        }
       ],
       "type": "table"
      }
     },
     "output_type": "display_data"
    }
   ],
   "source": [
    "%sql\n",
    "SELECT *\n",
    "FROM yellow_2015_view\n",
    "WHERE DOLocationID > 265 "
   ]
  },
  {
   "cell_type": "code",
   "execution_count": null,
   "metadata": {
    "application/vnd.databricks.v1+cell": {
     "cellMetadata": {
      "byteLimit": 2048000,
      "rowLimit": 10000
     },
     "inputWidgets": {},
     "nuid": "1bce994e-73a2-439b-85cf-fb637f85d4a5",
     "showTitle": false,
     "title": ""
    }
   },
   "outputs": [
    {
     "data": {
      "text/html": [
       "<style scoped>\n",
       "  .ansiout {\n",
       "    display: block;\n",
       "    unicode-bidi: embed;\n",
       "    white-space: pre-wrap;\n",
       "    word-wrap: break-word;\n",
       "    word-break: break-all;\n",
       "    font-family: \"Menlo\", \"Monaco\", \"Consolas\", \"Ubuntu Mono\", \"Source Code Pro\", monospace;\n",
       "    font-size: 13px;\n",
       "    color: #555;\n",
       "    margin-left: 4px;\n",
       "    line-height: 19px;\n",
       "  }\n",
       "</style>"
      ]
     },
     "metadata": {
      "application/vnd.databricks.v1+output": {
       "arguments": {},
       "data": "",
       "errorSummary": "Cancelled",
       "errorTraceType": "html",
       "metadata": {},
       "type": "ipynbError"
      }
     },
     "output_type": "display_data"
    }
   ],
   "source": [
    "yellow_2015_with_duration.select(\"speed_kmh\").summary().show()"
   ]
  },
  {
   "cell_type": "code",
   "execution_count": null,
   "metadata": {
    "application/vnd.databricks.v1+cell": {
     "cellMetadata": {
      "byteLimit": 2048000,
      "rowLimit": 10000
     },
     "inputWidgets": {},
     "nuid": "40a7d59b-325b-46b7-8a5b-aec5ff10cdbc",
     "showTitle": false,
     "title": ""
    }
   },
   "outputs": [
    {
     "name": "stdout",
     "output_type": "stream",
     "text": [
      "+-------+------------------+\n",
      "|summary|  trip_distance_km|\n",
      "+-------+------------------+\n",
      "|  count|         146039231|\n",
      "|   mean|19.063982889507464|\n",
      "| stddev|17599.690702899785|\n",
      "|    min|-6.5725645801896E7|\n",
      "|    25%|           1.60934|\n",
      "|    50%|         2.7680648|\n",
      "|    75%| 5.149888000000001|\n",
      "|    max| 9.4977790010862E7|\n",
      "+-------+------------------+\n",
      "\n"
     ]
    }
   ],
   "source": [
    "yellow_2015_with_duration.select(\"trip_distance_km\").summary().show()"
   ]
  },
  {
   "cell_type": "code",
   "execution_count": null,
   "metadata": {
    "application/vnd.databricks.v1+cell": {
     "cellMetadata": {
      "byteLimit": 2048000,
      "rowLimit": 10000
     },
     "inputWidgets": {},
     "nuid": "64b54b3b-9802-4cfd-a464-7cf91eac9bcf",
     "showTitle": false,
     "title": ""
    }
   },
   "outputs": [
    {
     "name": "stdout",
     "output_type": "stream",
     "text": [
      "90% quantiles: 10.573363800000001\n"
     ]
    }
   ],
   "source": [
    "quantiles = yellow_2015_with_duration.approxQuantile(\"trip_distance_km\", [0.9], 0.01)\n",
    "\n",
    "print(f\"90% quantiles: {quantiles[0]}\")"
   ]
  },
  {
   "cell_type": "code",
   "execution_count": null,
   "metadata": {
    "application/vnd.databricks.v1+cell": {
     "cellMetadata": {
      "byteLimit": 2048000,
      "rowLimit": 10000
     },
     "inputWidgets": {},
     "nuid": "b2876c2b-eb02-4f12-9a2a-fa796cc574dc",
     "showTitle": false,
     "title": ""
    }
   },
   "outputs": [
    {
     "name": "stdout",
     "output_type": "stream",
     "text": [
      "+-------+------------------+\n",
      "|summary|       Fare_amount|\n",
      "+-------+------------------+\n",
      "|  count|         146039231|\n",
      "|   mean|12.939035017035645|\n",
      "| stddev|124.37890358806082|\n",
      "|    min|            -496.0|\n",
      "|    25%|               6.5|\n",
      "|    50%|               9.5|\n",
      "|    75%|              14.5|\n",
      "|    max|         825998.61|\n",
      "+-------+------------------+\n",
      "\n"
     ]
    }
   ],
   "source": [
    "yellow_2015_with_duration.select(\"Fare_amount\").summary().show()"
   ]
  },
  {
   "cell_type": "code",
   "execution_count": null,
   "metadata": {
    "application/vnd.databricks.v1+cell": {
     "cellMetadata": {
      "byteLimit": 2048000,
      "rowLimit": 10000
     },
     "inputWidgets": {},
     "nuid": "e3030cb2-2bb1-4821-80bb-5441b539c192",
     "showTitle": false,
     "title": ""
    }
   },
   "outputs": [
    {
     "name": "stdout",
     "output_type": "stream",
     "text": [
      "+--------+--------------------+---------------------+---------------+-------------+----------+------------------+------------+------------+------------+-----------+-----+-------+----------+------------+---------------------+------------+--------------------+-----------+-------------+----------------+---------+\n",
      "|VendorID|tpep_pickup_datetime|tpep_dropoff_datetime|passenger_count|trip_distance|RatecodeID|store_and_fwd_flag|PULocationID|DOLocationID|payment_type|fare_amount|extra|mta_tax|tip_amount|tolls_amount|improvement_surcharge|total_amount|congestion_surcharge|airport_fee|trip_duration|Trip_distance_km|speed_kmh|\n",
      "+--------+--------------------+---------------------+---------------+-------------+----------+------------------+------------+------------+------------+-----------+-----+-------+----------+------------+---------------------+------------+--------------------+-----------+-------------+----------------+---------+\n",
      "|       0|                   0|                    0|              0|            0|         0|                 0|           0|           0|           0|          0|    0|      0|         0|           0|                    3|           0|           146039231|  146039231|            0|               0|        0|\n",
      "+--------+--------------------+---------------------+---------------+-------------+----------+------------------+------------+------------+------------+-----------+-----+-------+----------+------------+---------------------+------------+--------------------+-----------+-------------+----------------+---------+\n",
      "\n"
     ]
    }
   ],
   "source": [
    "missing_values = yellow_2015_with_duration.select([F.count(F.when(F.col(c).isNull(), c)).alias(c) for c in yellow_2015_with_duration.columns])\n",
    "missing_values.show()"
   ]
  },
  {
   "cell_type": "code",
   "execution_count": null,
   "metadata": {
    "application/vnd.databricks.v1+cell": {
     "cellMetadata": {
      "byteLimit": 2048000,
      "implicitDf": true,
      "rowLimit": 10000
     },
     "inputWidgets": {},
     "nuid": "13d9080e-bffc-4e53-b496-948515a9cd3b",
     "showTitle": false,
     "title": ""
    }
   },
   "outputs": [
    {
     "data": {
      "text/html": [
       "<style scoped>\n",
       "  .table-result-container {\n",
       "    max-height: 300px;\n",
       "    overflow: auto;\n",
       "  }\n",
       "  table, th, td {\n",
       "    border: 1px solid black;\n",
       "    border-collapse: collapse;\n",
       "  }\n",
       "  th, td {\n",
       "    padding: 5px;\n",
       "  }\n",
       "  th {\n",
       "    text-align: left;\n",
       "  }\n",
       "</style><div class='table-result-container'><table class='table-result'><thead style='background-color: white'><tr><th>avg_duration</th><th>max_duration</th><th>min_duration</th></tr></thead><tbody><tr><td>19.724179739640576</td><td>1.2537316083333333E8</td><td>-6.100172596666667E7</td></tr></tbody></table></div>"
      ]
     },
     "metadata": {
      "application/vnd.databricks.v1+output": {
       "addedWidgets": {},
       "aggData": [],
       "aggError": "",
       "aggOverflow": false,
       "aggSchema": [],
       "aggSeriesLimitReached": false,
       "aggType": "",
       "arguments": {},
       "columnCustomDisplayInfos": {},
       "data": [
        [
         19.724179739640576,
         125373160.83333333,
         -61001725.96666667
        ]
       ],
       "datasetInfos": [],
       "dbfsResultPath": null,
       "isJsonSchema": true,
       "metadata": {},
       "overflow": false,
       "plotOptions": {
        "customPlotOptions": {},
        "displayType": "table",
        "pivotAggregation": null,
        "pivotColumns": null,
        "xColumns": null,
        "yColumns": null
       },
       "removedWidgets": [],
       "schema": [
        {
         "metadata": "{}",
         "name": "avg_duration",
         "type": "\"double\""
        },
        {
         "metadata": "{}",
         "name": "max_duration",
         "type": "\"double\""
        },
        {
         "metadata": "{}",
         "name": "min_duration",
         "type": "\"double\""
        }
       ],
       "type": "table"
      }
     },
     "output_type": "display_data"
    }
   ],
   "source": [
    "%sql\n",
    "SELECT * \n",
    "FROM (\n",
    "SELECT AVG(trip_duration) AS avg_duration,\n",
    "      MAX(trip_duration) AS max_duration,\n",
    "      MIN(trip_duration) AS min_duration\n",
    "FROM yellow_2015_view)"
   ]
  },
  {
   "cell_type": "code",
   "execution_count": null,
   "metadata": {
    "application/vnd.databricks.v1+cell": {
     "cellMetadata": {
      "byteLimit": 2048000,
      "rowLimit": 10000
     },
     "inputWidgets": {},
     "nuid": "1944346d-4dc0-44e5-ae79-5cbec089d46c",
     "showTitle": false,
     "title": ""
    }
   },
   "outputs": [
    {
     "name": "stdout",
     "output_type": "stream",
     "text": [
      "+-------+------------------+\n",
      "|summary|  Trip_distance_km|\n",
      "+-------+------------------+\n",
      "|  count|          19233765|\n",
      "|   mean|4.6349211498355825|\n",
      "| stddev| 4.855768900844042|\n",
      "|    min|               0.0|\n",
      "|    25%|         1.7059004|\n",
      "|    50%|          3.057746|\n",
      "|    75%|         5.8579976|\n",
      "|    max|       1336.395936|\n",
      "+-------+------------------+\n",
      "\n"
     ]
    }
   ],
   "source": [
    "green_2015 = green_2015.withColumn(\"Trip_distance_km\", col(\"Trip_distance\") * 1.60934)\n",
    "\n",
    "green_2015.select(\"Trip_distance_km\").summary().show()"
   ]
  },
  {
   "cell_type": "code",
   "execution_count": null,
   "metadata": {
    "application/vnd.databricks.v1+cell": {
     "cellMetadata": {
      "byteLimit": 2048000,
      "rowLimit": 10000
     },
     "inputWidgets": {},
     "nuid": "0906ed9d-12fc-4133-b7d9-e27edb35cdc0",
     "showTitle": false,
     "title": ""
    }
   },
   "outputs": [
    {
     "name": "stdout",
     "output_type": "stream",
     "text": [
      "Out[60]: 87877"
     ]
    }
   ],
   "source": [
    "green_2015.filter(col(\"Total_amount\")< 1).count()"
   ]
  },
  {
   "cell_type": "code",
   "execution_count": null,
   "metadata": {
    "application/vnd.databricks.v1+cell": {
     "cellMetadata": {
      "byteLimit": 2048000,
      "rowLimit": 10000
     },
     "inputWidgets": {},
     "nuid": "66d85d7b-ad17-44bb-a8cf-8e7a21f3816b",
     "showTitle": false,
     "title": ""
    }
   },
   "outputs": [
    {
     "name": "stdout",
     "output_type": "stream",
     "text": [
      "+-------+------------------+\n",
      "|summary|         speed_kmh|\n",
      "+-------+------------------+\n",
      "|  count|          19233765|\n",
      "|   mean|25.033145018541312|\n",
      "| stddev| 290.1030224790009|\n",
      "|    min|              -1.0|\n",
      "|    25%|14.884804743083002|\n",
      "|    50%| 18.77263642458101|\n",
      "|    75%|23.898699000000004|\n",
      "|    max|326181.03119999997|\n",
      "+-------+------------------+\n",
      "\n"
     ]
    }
   ],
   "source": [
    "green_2015 = green_2015.withColumn(\n",
    "    \"trip_duration\",\n",
    "    (F.unix_timestamp(\"lpep_dropoff_datetime\") - F.unix_timestamp(\"lpep_pickup_datetime\")) / 60\n",
    ")\n",
    "\n",
    "green_2015 = green_2015.withColumn(\"speed_kmh\", \n",
    "                   when(col(\"trip_duration\") > 0, col(\"trip_distance_km\") / (col(\"trip_duration\") / 60)).otherwise(-1))\n",
    "\n",
    "green_2015.select(\"speed_kmh\").summary().show()"
   ]
  },
  {
   "cell_type": "code",
   "execution_count": null,
   "metadata": {
    "application/vnd.databricks.v1+cell": {
     "cellMetadata": {
      "byteLimit": 2048000,
      "rowLimit": 10000
     },
     "inputWidgets": {},
     "nuid": "c5cddb9e-578a-40a4-a9b5-4a3b05b0a031",
     "showTitle": false,
     "title": ""
    }
   },
   "outputs": [
    {
     "name": "stdout",
     "output_type": "stream",
     "text": [
      "+-------+-------------------+\n",
      "|summary|      trip_duration|\n",
      "+-------+-------------------+\n",
      "|  count|           19233765|\n",
      "|   mean|  17.13734369740654|\n",
      "| stddev| 1019.9981256241059|\n",
      "|    min|-483.51666666666665|\n",
      "|    25%|  6.066666666666666|\n",
      "|    50%| 10.233333333333333|\n",
      "|    75%| 16.933333333333334|\n",
      "|    max|          3155397.5|\n",
      "+-------+-------------------+\n",
      "\n"
     ]
    }
   ],
   "source": [
    "green_2015.select(\"trip_duration\").summary().show()"
   ]
  },
  {
   "cell_type": "code",
   "execution_count": null,
   "metadata": {
    "application/vnd.databricks.v1+cell": {
     "cellMetadata": {
      "byteLimit": 2048000,
      "rowLimit": 10000
     },
     "inputWidgets": {},
     "nuid": "6003176b-86ca-431d-9dce-f89066817914",
     "showTitle": false,
     "title": ""
    }
   },
   "outputs": [],
   "source": [
    "green_2015.createOrReplaceTempView(\"green_2015_view\")"
   ]
  },
  {
   "cell_type": "code",
   "execution_count": null,
   "metadata": {
    "application/vnd.databricks.v1+cell": {
     "cellMetadata": {
      "byteLimit": 2048000,
      "implicitDf": true,
      "rowLimit": 10000
     },
     "inputWidgets": {},
     "nuid": "5382141c-9c5f-42cc-83e6-4b5589b99a16",
     "showTitle": false,
     "title": ""
    }
   },
   "outputs": [
    {
     "data": {
      "text/html": [
       "<style scoped>\n",
       "  .table-result-container {\n",
       "    max-height: 300px;\n",
       "    overflow: auto;\n",
       "  }\n",
       "  table, th, td {\n",
       "    border: 1px solid black;\n",
       "    border-collapse: collapse;\n",
       "  }\n",
       "  th, td {\n",
       "    padding: 5px;\n",
       "  }\n",
       "  th {\n",
       "    text-align: left;\n",
       "  }\n",
       "</style><div class='table-result-container'><table class='table-result'><thead style='background-color: white'><tr><th>count(1)</th></tr></thead><tbody><tr><td>66964</td></tr></tbody></table></div>"
      ]
     },
     "metadata": {
      "application/vnd.databricks.v1+output": {
       "addedWidgets": {},
       "aggData": [],
       "aggError": "",
       "aggOverflow": false,
       "aggSchema": [],
       "aggSeriesLimitReached": false,
       "aggType": "",
       "arguments": {},
       "columnCustomDisplayInfos": {},
       "data": [
        [
         66964
        ]
       ],
       "datasetInfos": [],
       "dbfsResultPath": null,
       "isJsonSchema": true,
       "metadata": {},
       "overflow": false,
       "plotOptions": {
        "customPlotOptions": {},
        "displayType": "table",
        "pivotAggregation": null,
        "pivotColumns": null,
        "xColumns": null,
        "yColumns": null
       },
       "removedWidgets": [],
       "schema": [
        {
         "metadata": "{\"__autoGeneratedAlias\":\"true\"}",
         "name": "count(1)",
         "type": "\"long\""
        }
       ],
       "type": "table"
      }
     },
     "output_type": "display_data"
    }
   ],
   "source": [
    "%sql\n",
    "SELECT count(*) FROM green_2015_view WHERE trip_duration > 120"
   ]
  },
  {
   "cell_type": "markdown",
   "metadata": {
    "application/vnd.databricks.v1+cell": {
     "cellMetadata": {},
     "inputWidgets": {},
     "nuid": "e1ca9ee9-d342-48cd-b30d-62d18cce4749",
     "showTitle": false,
     "title": ""
    }
   },
   "source": [
    "Data engineering - Yellow Taxi"
   ]
  },
  {
   "cell_type": "code",
   "execution_count": null,
   "metadata": {
    "application/vnd.databricks.v1+cell": {
     "cellMetadata": {
      "byteLimit": 2048000,
      "rowLimit": 10000
     },
     "inputWidgets": {},
     "nuid": "f66c83b6-efa3-45be-bd76-528392cbeb3a",
     "showTitle": false,
     "title": ""
    }
   },
   "outputs": [],
   "source": [
    "yt_df = yt_total\n",
    "\n",
    "# Remove trips finishing before the starting time\n",
    "yt_df = yt_df.filter(col(\"tpep_dropoff_datetime\") > col(\"tpep_pickup_datetime\"))\n",
    "\n",
    "# Remove Trip_distance is less than 0 \n",
    "yt_df = yt_df.filter(col(\"Trip_distance\") > 0)\n",
    "\n",
    "# Remove Fare_amount is less than 0 \n",
    "yt_df = yt_df.filter(col(\"Fare_amount\") > 0)\n",
    "\n",
    "# Remove Total_amount is less than 0 \n",
    "yt_df = yt_df.filter(col(\"Total_amount\") > 0)\n"
   ]
  },
  {
   "cell_type": "code",
   "execution_count": null,
   "metadata": {
    "application/vnd.databricks.v1+cell": {
     "cellMetadata": {
      "byteLimit": 2048000,
      "rowLimit": 10000
     },
     "inputWidgets": {},
     "nuid": "44c9b2fd-dfb7-44a3-b4ce-a8514a3f6860",
     "showTitle": false,
     "title": ""
    }
   },
   "outputs": [],
   "source": [
    "# Add columns for data cleansing\n",
    "\n",
    "yt_df = yt_df.withColumn(\"trip_distance_km\", col(\"Trip_distance\") * 1.60934)\n",
    "\n",
    "yt_df = yt_df.withColumn(\n",
    "    \"trip_duration\",\n",
    "    (F.unix_timestamp(\"tpep_dropoff_datetime\") - F.unix_timestamp(\"tpep_pickup_datetime\")) / 60\n",
    ")\n",
    "\n",
    "yt_df = yt_df.withColumn(\"speed_kmh\", \n",
    "                   when(col(\"trip_duration\") > 0, col(\"trip_distance_km\") / (col(\"trip_duration\") / 60)).otherwise(-1))"
   ]
  },
  {
   "cell_type": "code",
   "execution_count": null,
   "metadata": {
    "application/vnd.databricks.v1+cell": {
     "cellMetadata": {
      "byteLimit": 2048000,
      "rowLimit": 10000
     },
     "inputWidgets": {},
     "nuid": "33f51829-3d15-48fa-bd1b-1259d3c5b0e4",
     "showTitle": false,
     "title": ""
    }
   },
   "outputs": [],
   "source": [
    "# Data cleansing - negative Speed\n",
    "yt_df = yt_df.filter(col(\"speed_kmh\") >= 0)\n",
    "\n",
    "# Data cleansing - very high speed\n",
    "yt_df = yt_df.filter(col(\"speed_kmh\") < 200)"
   ]
  },
  {
   "cell_type": "code",
   "execution_count": null,
   "metadata": {
    "application/vnd.databricks.v1+cell": {
     "cellMetadata": {
      "byteLimit": 2048000,
      "rowLimit": 10000
     },
     "inputWidgets": {},
     "nuid": "3975c3d9-1b94-4a84-969b-3229017aae29",
     "showTitle": false,
     "title": ""
    }
   },
   "outputs": [],
   "source": [
    "# Data cleansing - Duration outliers\n",
    "\n",
    "min_duration = 1\n",
    "max_duration = 120\n",
    "\n",
    "# Filter trips based on duration\n",
    "yt_df = yt_df.filter((yt_df[\"trip_duration\"] >= min_duration) & (yt_df[\"trip_duration\"] <= max_duration))"
   ]
  },
  {
   "cell_type": "code",
   "execution_count": null,
   "metadata": {
    "application/vnd.databricks.v1+cell": {
     "cellMetadata": {
      "byteLimit": 2048000,
      "rowLimit": 10000
     },
     "inputWidgets": {},
     "nuid": "c06d5cc8-a86c-435f-935b-4ee470c0d705",
     "showTitle": false,
     "title": ""
    }
   },
   "outputs": [],
   "source": [
    "# Data cleansing - Distance outliers\n",
    "\n",
    "min_distance_km = 0.5 \n",
    "max_distance_km = 80\n",
    "\n",
    "# Filter trips based on distance_km\n",
    "yt_df = yt_df.filter((yt_df[\"trip_distance_km\"] >= min_distance_km) & (yt_df[\"trip_distance_km\"] <= max_distance_km))"
   ]
  },
  {
   "cell_type": "code",
   "execution_count": null,
   "metadata": {
    "application/vnd.databricks.v1+cell": {
     "cellMetadata": {
      "byteLimit": 2048000,
      "rowLimit": 10000
     },
     "inputWidgets": {},
     "nuid": "27a5a45c-94a0-4c87-925c-63bab151da93",
     "showTitle": false,
     "title": ""
    }
   },
   "outputs": [
    {
     "name": "stdout",
     "output_type": "stream",
     "text": [
      "Out[91]: 645364351"
     ]
    }
   ],
   "source": [
    "yt_df.count()"
   ]
  },
  {
   "cell_type": "code",
   "execution_count": null,
   "metadata": {
    "application/vnd.databricks.v1+cell": {
     "cellMetadata": {
      "byteLimit": 2048000,
      "rowLimit": 10000
     },
     "inputWidgets": {},
     "nuid": "5e715f1b-05f3-4f71-b311-f4feef6fd5ac",
     "showTitle": false,
     "title": ""
    }
   },
   "outputs": [],
   "source": [
    "# Replace passanger_count 0 with mode 1\n",
    "\n",
    "yt_df = yt_df.withColumn(\n",
    "    \"passenger_count\",\n",
    "    F.when(yt_df[\"passenger_count\"] == 0, 1).otherwise(yt_df[\"passenger_count\"])\n",
    ")"
   ]
  },
  {
   "cell_type": "code",
   "execution_count": null,
   "metadata": {
    "application/vnd.databricks.v1+cell": {
     "cellMetadata": {
      "byteLimit": 2048000,
      "rowLimit": 10000
     },
     "inputWidgets": {},
     "nuid": "0e94cac5-8718-4a7e-bdff-72306d85a5af",
     "showTitle": false,
     "title": ""
    }
   },
   "outputs": [
    {
     "name": "stdout",
     "output_type": "stream",
     "text": [
      "+-------+------------------+\n",
      "|summary|  trip_distance_km|\n",
      "+-------+------------------+\n",
      "|  count|         645364351|\n",
      "|   mean|4.9294506748320055|\n",
      "| stddev|6.0814579188837525|\n",
      "|    min|         0.5149888|\n",
      "|    25%|         1.6576202|\n",
      "|    50%|         2.7519714|\n",
      "|    75%| 5.149888000000001|\n",
      "|    max|         79.984198|\n",
      "+-------+------------------+\n",
      "\n"
     ]
    }
   ],
   "source": [
    "yt_df.select(\"trip_distance_km\").summary().show()"
   ]
  },
  {
   "cell_type": "markdown",
   "metadata": {
    "application/vnd.databricks.v1+cell": {
     "cellMetadata": {},
     "inputWidgets": {},
     "nuid": "a1614383-2b08-46fe-a1e5-3c117f657c0d",
     "showTitle": false,
     "title": ""
    }
   },
   "source": [
    "Data engineering - Green Taxi"
   ]
  },
  {
   "cell_type": "code",
   "execution_count": null,
   "metadata": {
    "application/vnd.databricks.v1+cell": {
     "cellMetadata": {
      "byteLimit": 2048000,
      "rowLimit": 10000
     },
     "inputWidgets": {},
     "nuid": "94353082-728a-46dc-be97-ad42a5fda1b0",
     "showTitle": false,
     "title": ""
    }
   },
   "outputs": [],
   "source": [
    "gt_df = gt_total\n",
    "\n",
    "# Remove trips finishing before the starting time\n",
    "gt_df = gt_df.filter(col(\"lpep_dropoff_datetime\") > col(\"lpep_pickup_datetime\"))\n",
    "\n",
    "# Remove Trip_distance is less than 0 \n",
    "gt_df = gt_df.filter(col(\"Trip_distance\") > 0)\n",
    "\n",
    "# Remove Fare_amount is less than 0 \n",
    "gt_df = gt_df.filter(col(\"Fare_amount\") > 0)\n",
    "\n",
    "# Remove Total_amount is less than 0 \n",
    "gt_df = gt_df.filter(col(\"Total_amount\") > 0)\n"
   ]
  },
  {
   "cell_type": "code",
   "execution_count": null,
   "metadata": {
    "application/vnd.databricks.v1+cell": {
     "cellMetadata": {
      "byteLimit": 2048000,
      "rowLimit": 10000
     },
     "inputWidgets": {},
     "nuid": "158c6cf6-9bd6-400b-b953-de95daef2558",
     "showTitle": false,
     "title": ""
    }
   },
   "outputs": [],
   "source": [
    "# Add columns for data cleansing\n",
    "\n",
    "gt_df = gt_df.withColumn(\"trip_distance_km\", col(\"Trip_distance\") * 1.60934)\n",
    "\n",
    "gt_df = gt_df.withColumn(\n",
    "    \"trip_duration\",\n",
    "    (F.unix_timestamp(\"lpep_dropoff_datetime\") - F.unix_timestamp(\"lpep_pickup_datetime\")) / 60\n",
    ")\n",
    "\n",
    "gt_df = gt_df.withColumn(\"speed_kmh\", \n",
    "                   when(col(\"trip_duration\") > 0, col(\"trip_distance_km\") / (col(\"trip_duration\") / 60)).otherwise(-1))"
   ]
  },
  {
   "cell_type": "code",
   "execution_count": null,
   "metadata": {
    "application/vnd.databricks.v1+cell": {
     "cellMetadata": {
      "byteLimit": 2048000,
      "rowLimit": 10000
     },
     "inputWidgets": {},
     "nuid": "a0d6103e-467f-4ad7-8763-38ab134f6207",
     "showTitle": false,
     "title": ""
    }
   },
   "outputs": [],
   "source": [
    "# Data cleansing - negative Speed\n",
    "gt_df = gt_df.filter(col(\"speed_kmh\") >= 0)\n",
    "\n",
    "# Data cleansing - very high speed\n",
    "gt_df = gt_df.filter(col(\"speed_kmh\") < 200)"
   ]
  },
  {
   "cell_type": "code",
   "execution_count": null,
   "metadata": {
    "application/vnd.databricks.v1+cell": {
     "cellMetadata": {
      "byteLimit": 2048000,
      "rowLimit": 10000
     },
     "inputWidgets": {},
     "nuid": "e3fc16fd-4600-4cf0-b664-0e189f15174d",
     "showTitle": false,
     "title": ""
    }
   },
   "outputs": [],
   "source": [
    "# Data cleansing - Duration outliers\n",
    "\n",
    "min_duration = 1\n",
    "max_duration = 120\n",
    "\n",
    "# Filter trips based on duration\n",
    "gt_df = gt_df.filter((gt_df[\"trip_duration\"] >= min_duration) & (gt_df[\"trip_duration\"] <= max_duration))"
   ]
  },
  {
   "cell_type": "code",
   "execution_count": null,
   "metadata": {
    "application/vnd.databricks.v1+cell": {
     "cellMetadata": {
      "byteLimit": 2048000,
      "rowLimit": 10000
     },
     "inputWidgets": {},
     "nuid": "4090676d-1f1b-46d3-a658-b775abeb400b",
     "showTitle": false,
     "title": ""
    }
   },
   "outputs": [],
   "source": [
    "# Data cleansing - Distance outliers\n",
    "\n",
    "min_distance_km = 0.5 \n",
    "max_distance_km = 100\n",
    "\n",
    "# Filter trips based on distance_km\n",
    "gt_df = gt_df.filter((gt_df[\"trip_distance_km\"] >= min_distance_km) & (gt_df[\"trip_distance_km\"] <= max_distance_km))"
   ]
  },
  {
   "cell_type": "code",
   "execution_count": null,
   "metadata": {
    "application/vnd.databricks.v1+cell": {
     "cellMetadata": {
      "byteLimit": 2048000,
      "rowLimit": 10000
     },
     "inputWidgets": {},
     "nuid": "f0afa7ab-d72b-4b72-96f4-829fd6505931",
     "showTitle": false,
     "title": ""
    }
   },
   "outputs": [
    {
     "name": "stdout",
     "output_type": "stream",
     "text": [
      "Out[89]: 63421542"
     ]
    }
   ],
   "source": [
    "gt_df.count()"
   ]
  },
  {
   "cell_type": "code",
   "execution_count": null,
   "metadata": {
    "application/vnd.databricks.v1+cell": {
     "cellMetadata": {
      "byteLimit": 2048000,
      "rowLimit": 10000
     },
     "inputWidgets": {},
     "nuid": "c19960c6-ea05-4cac-95bc-117975a1bb45",
     "showTitle": false,
     "title": ""
    }
   },
   "outputs": [],
   "source": [
    "# Replace passanger_count 0 with mode 1\n",
    "\n",
    "gt_df = gt_df.withColumn(\n",
    "    \"passenger_count\",\n",
    "    F.when(gt_df[\"passenger_count\"] == 0, 1).otherwise(gt_df[\"passenger_count\"])\n",
    ")"
   ]
  },
  {
   "cell_type": "markdown",
   "metadata": {
    "application/vnd.databricks.v1+cell": {
     "cellMetadata": {},
     "inputWidgets": {},
     "nuid": "8188e9ac-3012-4d7d-a717-db40bc2854a2",
     "showTitle": false,
     "title": ""
    }
   },
   "source": [
    "Combine dataset\n",
    "\n",
    " - Manage Yellow & Green taxi dataset before merging\n",
    " - Combine Yellow & Green taxi\n",
    " - Combine location data\n",
    " - Export combined dataset into a parquet file"
   ]
  },
  {
   "cell_type": "code",
   "execution_count": null,
   "metadata": {
    "application/vnd.databricks.v1+cell": {
     "cellMetadata": {
      "byteLimit": 2048000,
      "rowLimit": 10000
     },
     "inputWidgets": {},
     "nuid": "0970cb17-50f0-4776-b3a0-bb106b108381",
     "showTitle": false,
     "title": ""
    }
   },
   "outputs": [
    {
     "name": "stdout",
     "output_type": "stream",
     "text": [
      "root\n",
      " |-- VendorID: long (nullable = true)\n",
      " |-- pickup_datetime: timestamp (nullable = true)\n",
      " |-- dropoff_datetime: timestamp (nullable = true)\n",
      " |-- passenger_count: double (nullable = true)\n",
      " |-- trip_distance: double (nullable = true)\n",
      " |-- RatecodeID: double (nullable = true)\n",
      " |-- store_and_fwd_flag: string (nullable = true)\n",
      " |-- PULocationID: long (nullable = true)\n",
      " |-- DOLocationID: long (nullable = true)\n",
      " |-- payment_type: double (nullable = true)\n",
      " |-- fare_amount: double (nullable = true)\n",
      " |-- extra: double (nullable = true)\n",
      " |-- mta_tax: double (nullable = true)\n",
      " |-- tip_amount: double (nullable = true)\n",
      " |-- tolls_amount: double (nullable = true)\n",
      " |-- improvement_surcharge: double (nullable = true)\n",
      " |-- total_amount: double (nullable = true)\n",
      " |-- congestion_surcharge: double (nullable = true)\n",
      " |-- airport_fee: double (nullable = true)\n",
      " |-- trip_distance_km: double (nullable = true)\n",
      " |-- trip_duration: double (nullable = true)\n",
      " |-- speed_kmh: double (nullable = true)\n",
      " |-- taxi_type: string (nullable = false)\n",
      " |-- trip_type: double (nullable = true)\n",
      " |-- ehail_fee: double (nullable = true)\n",
      "\n",
      "+--------+-------------------+-------------------+---------------+-------------+----------+------------------+------------+------------+------------+-----------+-----+-------+----------+------------+---------------------+------------+--------------------+-----------+------------------+------------------+------------------+---------+---------+---------+\n",
      "|VendorID|    pickup_datetime|   dropoff_datetime|passenger_count|trip_distance|RatecodeID|store_and_fwd_flag|PULocationID|DOLocationID|payment_type|fare_amount|extra|mta_tax|tip_amount|tolls_amount|improvement_surcharge|total_amount|congestion_surcharge|airport_fee|  trip_distance_km|     trip_duration|         speed_kmh|taxi_type|trip_type|ehail_fee|\n",
      "+--------+-------------------+-------------------+---------------+-------------+----------+------------------+------------+------------+------------+-----------+-----+-------+----------+------------+---------------------+------------+--------------------+-----------+------------------+------------------+------------------+---------+---------+---------+\n",
      "|       2|2020-10-25 11:37:09|2020-10-25 11:45:35|            1.0|         1.88|       1.0|                 N|         230|         234|         1.0|        8.0|  0.0|    0.5|      2.26|         0.0|                  0.3|       13.56|                 2.5|       null|         3.0255592| 8.433333333333334|21.525717628458494|   yellow|     null|     null|\n",
      "|       2|2020-10-25 11:49:06|2020-10-25 11:56:53|            1.0|         1.26|       1.0|                 N|         164|         113|         1.0|        7.0|  0.0|    0.5|      2.06|         0.0|                  0.3|       12.36|                 2.5|       null|         2.0277684| 7.783333333333333|15.631619357601712|   yellow|     null|     null|\n",
      "|       2|2020-10-25 11:09:16|2020-10-25 11:10:56|            1.0|         0.37|       1.0|                 N|         239|         239|         1.0|        3.5|  0.0|    0.5|       1.0|         0.0|                  0.3|         7.8|                 2.5|       null|         0.5954558|1.6666666666666667|        21.4364088|   yellow|     null|     null|\n",
      "|       2|2020-10-25 11:14:04|2020-10-25 11:20:37|            1.0|         1.21|       1.0|                 N|         239|         142|         2.0|        6.5|  0.0|    0.5|       0.0|         0.0|                  0.3|         9.8|                 2.5|       null|         1.9473014|              6.55| 17.83787541984733|   yellow|     null|     null|\n",
      "|       2|2020-10-25 11:49:55|2020-10-25 11:52:33|            1.0|         0.61|       1.0|                 N|         230|         186|         2.0|        4.0|  0.0|    0.5|       0.0|         0.0|                  0.3|         7.3|                 2.5|       null|0.9816973999999999|2.6333333333333333|22.367788860759493|   yellow|     null|     null|\n",
      "+--------+-------------------+-------------------+---------------+-------------+----------+------------------+------------+------------+------------+-----------+-----+-------+----------+------------+---------------------+------------+--------------------+-----------+------------------+------------------+------------------+---------+---------+---------+\n",
      "only showing top 5 rows\n",
      "\n"
     ]
    }
   ],
   "source": [
    "yt_df = yt_df.withColumn(\"taxi_type\", F.lit(\"yellow\"))\n",
    "gt_df = gt_df.withColumn(\"taxi_type\", F.lit(\"green\"))\n",
    "\n",
    "# Change Column name \n",
    "yt_df = yt_df.withColumnRenamed(\"tpep_pickup_datetime\", \"pickup_datetime\")\n",
    "yt_df = yt_df.withColumnRenamed(\"tpep_dropoff_datetime\", \"dropoff_datetime\")\n",
    "\n",
    "gt_df = gt_df.withColumnRenamed(\"lpep_pickup_datetime\", \"pickup_datetime\")\n",
    "gt_df = gt_df.withColumnRenamed(\"lpep_dropoff_datetime\", \"dropoff_datetime\")\n",
    "\n",
    "# Add columns that are not in both datasets and fill them with null values\n",
    "for column in set(yt_df.columns) - set(gt_df.columns):\n",
    "    gt_df = gt_df.withColumn(column, F.lit(None).cast(yt_df.schema[column].dataType))\n",
    "\n",
    "for column in set(gt_df.columns) - set(yt_df.columns):\n",
    "    yt_df = yt_df.withColumn(column, F.lit(None).cast(gt_df.schema[column].dataType))\n",
    "\n",
    "combined_df = yt_df.unionByName(gt_df)\n",
    "\n",
    "combined_df.printSchema()\n",
    "combined_df.show(5)"
   ]
  },
  {
   "cell_type": "code",
   "execution_count": null,
   "metadata": {
    "application/vnd.databricks.v1+cell": {
     "cellMetadata": {
      "byteLimit": 2048000,
      "rowLimit": 10000
     },
     "inputWidgets": {},
     "nuid": "03c0612f-c18e-48dd-bc84-9a7cc772cc2b",
     "showTitle": false,
     "title": ""
    }
   },
   "outputs": [
    {
     "name": "stdout",
     "output_type": "stream",
     "text": [
      "+----------+-------------+--------------------+------------+\n",
      "|LocationID|      Borough|                Zone|service_zone|\n",
      "+----------+-------------+--------------------+------------+\n",
      "|         1|          EWR|      Newark Airport|         EWR|\n",
      "|         2|       Queens|         Jamaica Bay|   Boro Zone|\n",
      "|         3|        Bronx|Allerton/Pelham G...|   Boro Zone|\n",
      "|         4|    Manhattan|       Alphabet City| Yellow Zone|\n",
      "|         5|Staten Island|       Arden Heights|   Boro Zone|\n",
      "|         6|Staten Island|Arrochar/Fort Wad...|   Boro Zone|\n",
      "|         7|       Queens|             Astoria|   Boro Zone|\n",
      "|         8|       Queens|        Astoria Park|   Boro Zone|\n",
      "|         9|       Queens|          Auburndale|   Boro Zone|\n",
      "|        10|       Queens|        Baisley Park|   Boro Zone|\n",
      "|        11|     Brooklyn|          Bath Beach|   Boro Zone|\n",
      "|        12|    Manhattan|        Battery Park| Yellow Zone|\n",
      "|        13|    Manhattan|   Battery Park City| Yellow Zone|\n",
      "|        14|     Brooklyn|           Bay Ridge|   Boro Zone|\n",
      "|        15|       Queens|Bay Terrace/Fort ...|   Boro Zone|\n",
      "|        16|       Queens|             Bayside|   Boro Zone|\n",
      "|        17|     Brooklyn|             Bedford|   Boro Zone|\n",
      "|        18|        Bronx|        Bedford Park|   Boro Zone|\n",
      "|        19|       Queens|           Bellerose|   Boro Zone|\n",
      "|        20|        Bronx|             Belmont|   Boro Zone|\n",
      "+----------+-------------+--------------------+------------+\n",
      "only showing top 20 rows\n",
      "\n"
     ]
    }
   ],
   "source": [
    "# Load the location data \n",
    "\n",
    "location_df = spark.read.option(\"header\", True).csv(\"/FileStore/taxi_zone_lookup.csv\")\n",
    "location_df.show()"
   ]
  },
  {
   "cell_type": "code",
   "execution_count": null,
   "metadata": {
    "application/vnd.databricks.v1+cell": {
     "cellMetadata": {
      "byteLimit": 2048000,
      "rowLimit": 10000
     },
     "inputWidgets": {},
     "nuid": "0c457b22-1ed1-43a9-9d2b-8b731502d177",
     "showTitle": false,
     "title": ""
    }
   },
   "outputs": [],
   "source": [
    "# Join with the combined dataset using location_id\n",
    "# Join twice for pickup and dropoff location\n",
    "\n",
    "combined_df = combined_df.join(\n",
    "    location_df.withColumnRenamed(\"LocationID\", \"PULocationID\"),\n",
    "    on=\"PULocationID\",\n",
    "    how=\"left\"\n",
    ")\n",
    "\n",
    "combined_df = combined_df.withColumnRenamed(\"borough\", \"pickup_borough\") \\\n",
    "                         .withColumnRenamed(\"zone\", \"pickup_zone\") \\\n",
    "                         .withColumnRenamed(\"service_zone\", \"pickup_service_zone\")\n",
    "\n",
    "\n",
    "combined_df = combined_df.join(\n",
    "    location_df.withColumnRenamed(\"LocationID\", \"DOLocationID\"),\n",
    "    on=\"DOLocationID\",\n",
    "    how=\"left\"\n",
    ")\n",
    "\n",
    "combined_df = combined_df.withColumnRenamed(\"borough\", \"dropoff_borough\") \\\n",
    "                         .withColumnRenamed(\"zone\", \"dropoff_zone\") \\\n",
    "                         .withColumnRenamed(\"service_zone\", \"dropoff_service_zone\")"
   ]
  },
  {
   "cell_type": "code",
   "execution_count": null,
   "metadata": {
    "application/vnd.databricks.v1+cell": {
     "cellMetadata": {
      "byteLimit": 2048000,
      "rowLimit": 10000
     },
     "inputWidgets": {},
     "nuid": "84dcf916-03cb-4b4e-a9cd-97fd303d06fc",
     "showTitle": false,
     "title": ""
    }
   },
   "outputs": [
    {
     "name": "stdout",
     "output_type": "stream",
     "text": [
      "root\n",
      " |-- DOLocationID: long (nullable = true)\n",
      " |-- PULocationID: long (nullable = true)\n",
      " |-- VendorID: long (nullable = true)\n",
      " |-- pickup_datetime: timestamp (nullable = true)\n",
      " |-- dropoff_datetime: timestamp (nullable = true)\n",
      " |-- passenger_count: double (nullable = true)\n",
      " |-- trip_distance: double (nullable = true)\n",
      " |-- RatecodeID: double (nullable = true)\n",
      " |-- store_and_fwd_flag: string (nullable = true)\n",
      " |-- payment_type: double (nullable = true)\n",
      " |-- fare_amount: double (nullable = true)\n",
      " |-- extra: double (nullable = true)\n",
      " |-- mta_tax: double (nullable = true)\n",
      " |-- tip_amount: double (nullable = true)\n",
      " |-- tolls_amount: double (nullable = true)\n",
      " |-- improvement_surcharge: double (nullable = true)\n",
      " |-- total_amount: double (nullable = true)\n",
      " |-- congestion_surcharge: double (nullable = true)\n",
      " |-- airport_fee: double (nullable = true)\n",
      " |-- trip_distance_km: double (nullable = true)\n",
      " |-- trip_duration: double (nullable = true)\n",
      " |-- speed_kmh: double (nullable = true)\n",
      " |-- taxi_type: string (nullable = false)\n",
      " |-- trip_type: double (nullable = true)\n",
      " |-- ehail_fee: double (nullable = true)\n",
      " |-- pickup_borough: string (nullable = true)\n",
      " |-- pickup_zone: string (nullable = true)\n",
      " |-- pickup_service_zone: string (nullable = true)\n",
      " |-- dropoff_borough: string (nullable = true)\n",
      " |-- dropoff_zone: string (nullable = true)\n",
      " |-- dropoff_service_zone: string (nullable = true)\n",
      "\n",
      "+------------+------------+--------+-------------------+-------------------+---------------+-------------+----------+------------------+------------+-----------+-----+-------+----------+------------+---------------------+------------+--------------------+-----------+------------------+------------------+------------------+---------+---------+---------+--------------+--------------------+-------------------+---------------+--------------------+--------------------+\n",
      "|DOLocationID|PULocationID|VendorID|    pickup_datetime|   dropoff_datetime|passenger_count|trip_distance|RatecodeID|store_and_fwd_flag|payment_type|fare_amount|extra|mta_tax|tip_amount|tolls_amount|improvement_surcharge|total_amount|congestion_surcharge|airport_fee|  trip_distance_km|     trip_duration|         speed_kmh|taxi_type|trip_type|ehail_fee|pickup_borough|         pickup_zone|pickup_service_zone|dropoff_borough|        dropoff_zone|dropoff_service_zone|\n",
      "+------------+------------+--------+-------------------+-------------------+---------------+-------------+----------+------------------+------------+-----------+-----+-------+----------+------------+---------------------+------------+--------------------+-----------+------------------+------------------+------------------+---------+---------+---------+--------------+--------------------+-------------------+---------------+--------------------+--------------------+\n",
      "|         234|         230|       2|2020-10-25 11:37:09|2020-10-25 11:45:35|            1.0|         1.88|       1.0|                 N|         1.0|        8.0|  0.0|    0.5|      2.26|         0.0|                  0.3|       13.56|                 2.5|       null|         3.0255592| 8.433333333333334|21.525717628458494|   yellow|     null|     null|     Manhattan|Times Sq/Theatre ...|        Yellow Zone|      Manhattan|            Union Sq|         Yellow Zone|\n",
      "|         113|         164|       2|2020-10-25 11:49:06|2020-10-25 11:56:53|            1.0|         1.26|       1.0|                 N|         1.0|        7.0|  0.0|    0.5|      2.06|         0.0|                  0.3|       12.36|                 2.5|       null|         2.0277684| 7.783333333333333|15.631619357601712|   yellow|     null|     null|     Manhattan|       Midtown South|        Yellow Zone|      Manhattan|Greenwich Village...|         Yellow Zone|\n",
      "|         239|         239|       2|2020-10-25 11:09:16|2020-10-25 11:10:56|            1.0|         0.37|       1.0|                 N|         1.0|        3.5|  0.0|    0.5|       1.0|         0.0|                  0.3|         7.8|                 2.5|       null|         0.5954558|1.6666666666666667|        21.4364088|   yellow|     null|     null|     Manhattan|Upper West Side S...|        Yellow Zone|      Manhattan|Upper West Side S...|         Yellow Zone|\n",
      "|         142|         239|       2|2020-10-25 11:14:04|2020-10-25 11:20:37|            1.0|         1.21|       1.0|                 N|         2.0|        6.5|  0.0|    0.5|       0.0|         0.0|                  0.3|         9.8|                 2.5|       null|         1.9473014|              6.55| 17.83787541984733|   yellow|     null|     null|     Manhattan|Upper West Side S...|        Yellow Zone|      Manhattan| Lincoln Square East|         Yellow Zone|\n",
      "|         186|         230|       2|2020-10-25 11:49:55|2020-10-25 11:52:33|            1.0|         0.61|       1.0|                 N|         2.0|        4.0|  0.0|    0.5|       0.0|         0.0|                  0.3|         7.3|                 2.5|       null|0.9816973999999999|2.6333333333333333|22.367788860759493|   yellow|     null|     null|     Manhattan|Times Sq/Theatre ...|        Yellow Zone|      Manhattan|Penn Station/Madi...|         Yellow Zone|\n",
      "+------------+------------+--------+-------------------+-------------------+---------------+-------------+----------+------------------+------------+-----------+-----+-------+----------+------------+---------------------+------------+--------------------+-----------+------------------+------------------+------------------+---------+---------+---------+--------------+--------------------+-------------------+---------------+--------------------+--------------------+\n",
      "only showing top 5 rows\n",
      "\n"
     ]
    }
   ],
   "source": [
    "combined_df.printSchema()\n",
    "\n",
    "# Display the first 5 rows of the combined dataframe\n",
    "combined_df.show(5)"
   ]
  },
  {
   "cell_type": "code",
   "execution_count": null,
   "metadata": {
    "application/vnd.databricks.v1+cell": {
     "cellMetadata": {
      "byteLimit": 2048000,
      "rowLimit": 10000
     },
     "inputWidgets": {},
     "nuid": "1036da6e-467b-4835-8d70-8904fabc838f",
     "showTitle": false,
     "title": ""
    }
   },
   "outputs": [
    {
     "name": "stdout",
     "output_type": "stream",
     "text": [
      "Successfully written combined data to /dbfs/mnt/bde-assignment2/nyc_taxi_final.parquet\n"
     ]
    }
   ],
   "source": [
    "# Export a parquet\n",
    "destination_path = \"/dbfs/mnt/bde-assignment2/nyc_taxi_final.parquet\"\n",
    "\n",
    "try:\n",
    "    combined_df.write.mode('overwrite').parquet(destination_path)\n",
    "    print(f\"Successfully written combined data to {destination_path}\")\n",
    "except Exception as e:\n",
    "    print(f\"Failed to write combined data: {str(e)}\")\n"
   ]
  },
  {
   "cell_type": "code",
   "execution_count": null,
   "metadata": {
    "application/vnd.databricks.v1+cell": {
     "cellMetadata": {
      "byteLimit": 2048000,
      "rowLimit": 10000
     },
     "inputWidgets": {},
     "nuid": "9cdeffef-de18-4ec0-bf67-2922420e796e",
     "showTitle": false,
     "title": ""
    }
   },
   "outputs": [],
   "source": [
    "destination_path = \"/dbfs/mnt/bde-assignment2/nyc_taxi_final.parquet\"\n",
    "\n",
    "nyc_taxi = spark.read.parquet(destination_path)"
   ]
  },
  {
   "cell_type": "code",
   "execution_count": null,
   "metadata": {
    "application/vnd.databricks.v1+cell": {
     "cellMetadata": {
      "byteLimit": 2048000,
      "rowLimit": 10000
     },
     "inputWidgets": {},
     "nuid": "d269f766-fceb-4897-9802-91a7eee5c589",
     "showTitle": false,
     "title": ""
    }
   },
   "outputs": [
    {
     "name": "stdout",
     "output_type": "stream",
     "text": [
      "root\n",
      " |-- DOLocationID: long (nullable = true)\n",
      " |-- PULocationID: long (nullable = true)\n",
      " |-- VendorID: long (nullable = true)\n",
      " |-- pickup_datetime: timestamp (nullable = true)\n",
      " |-- dropoff_datetime: timestamp (nullable = true)\n",
      " |-- passenger_count: double (nullable = true)\n",
      " |-- trip_distance: double (nullable = true)\n",
      " |-- RatecodeID: double (nullable = true)\n",
      " |-- store_and_fwd_flag: string (nullable = true)\n",
      " |-- payment_type: double (nullable = true)\n",
      " |-- fare_amount: double (nullable = true)\n",
      " |-- extra: double (nullable = true)\n",
      " |-- mta_tax: double (nullable = true)\n",
      " |-- tip_amount: double (nullable = true)\n",
      " |-- tolls_amount: double (nullable = true)\n",
      " |-- improvement_surcharge: double (nullable = true)\n",
      " |-- total_amount: double (nullable = true)\n",
      " |-- congestion_surcharge: double (nullable = true)\n",
      " |-- airport_fee: double (nullable = true)\n",
      " |-- trip_distance_km: double (nullable = true)\n",
      " |-- trip_duration: double (nullable = true)\n",
      " |-- speed_kmh: double (nullable = true)\n",
      " |-- taxi_type: string (nullable = true)\n",
      " |-- trip_type: double (nullable = true)\n",
      " |-- ehail_fee: double (nullable = true)\n",
      " |-- pickup_borough: string (nullable = true)\n",
      " |-- pickup_zone: string (nullable = true)\n",
      " |-- pickup_service_zone: string (nullable = true)\n",
      " |-- dropoff_borough: string (nullable = true)\n",
      " |-- dropoff_zone: string (nullable = true)\n",
      " |-- dropoff_service_zone: string (nullable = true)\n",
      "\n"
     ]
    }
   ],
   "source": [
    "nyc_taxi.printSchema()"
   ]
  },
  {
   "cell_type": "code",
   "execution_count": null,
   "metadata": {
    "application/vnd.databricks.v1+cell": {
     "cellMetadata": {
      "byteLimit": 2048000,
      "rowLimit": 10000
     },
     "inputWidgets": {},
     "nuid": "7edf269e-61ae-40d1-be45-adf4bef14838",
     "showTitle": false,
     "title": ""
    }
   },
   "outputs": [
    {
     "name": "stdout",
     "output_type": "stream",
     "text": [
      "Out[101]: 708785893"
     ]
    }
   ],
   "source": [
    "nyc_taxi.count()"
   ]
  }
 ],
 "metadata": {
  "application/vnd.databricks.v1+notebook": {
   "dashboards": [],
   "environmentMetadata": null,
   "language": "python",
   "notebookMetadata": {
    "mostRecentlyExecutedCommandWithImplicitDF": {
     "commandId": 3109879502772048,
     "dataframes": [
      "_sqldf"
     ]
    },
    "pythonIndentUnit": 4
   },
   "notebookName": "Part1",
   "widgets": {}
  },
  "language_info": {
   "name": "python"
  }
 },
 "nbformat": 4,
 "nbformat_minor": 0
}
